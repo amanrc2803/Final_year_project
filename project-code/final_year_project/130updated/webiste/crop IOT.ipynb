{
 "cells": [
  {
   "cell_type": "code",
   "execution_count": 1,
   "metadata": {},
   "outputs": [],
   "source": [
    "import random\n",
    "plantwidth = []\n",
    "plantheight= []\n",
    "phvalue=[]\n",
    "temp=[]\n",
    "humid=[]#in percentange\n",
    "moist=[]#in percentange\n",
    "growth=[]#growth\n",
    "for i in range(1,10001):\n",
    "    n = random.randint(14,40)\n",
    "    m = random.randint(15,120)\n",
    "    l=random.randint(3,10)\n",
    "    j=random.randint(17,40)\n",
    "    k=random.randint(40,110)\n",
    "    z=random.randint(10,45)\n",
    "    plantwidth.append(n)\n",
    "    plantheight.append(m)\n",
    "    phvalue.append(l)\n",
    "    temp.append(j)\n",
    "    humid.append(k)\n",
    "    moist.append(z)"
   ]
  },
  {
   "cell_type": "code",
   "execution_count": 2,
   "metadata": {},
   "outputs": [],
   "source": [
    "import pandas as pd\n",
    "df = pd.DataFrame(list(zip(plantheight, plantwidth,phvalue,temp,humid,moist)),columns =['plantheight','plantwidth','phvalue','temp','humid','moist'])\n"
   ]
  },
  {
   "cell_type": "code",
   "execution_count": 3,
   "metadata": {},
   "outputs": [
    {
     "data": {
      "text/html": [
       "<div>\n",
       "<style scoped>\n",
       "    .dataframe tbody tr th:only-of-type {\n",
       "        vertical-align: middle;\n",
       "    }\n",
       "\n",
       "    .dataframe tbody tr th {\n",
       "        vertical-align: top;\n",
       "    }\n",
       "\n",
       "    .dataframe thead th {\n",
       "        text-align: right;\n",
       "    }\n",
       "</style>\n",
       "<table border=\"1\" class=\"dataframe\">\n",
       "  <thead>\n",
       "    <tr style=\"text-align: right;\">\n",
       "      <th></th>\n",
       "      <th>plantheight</th>\n",
       "      <th>plantwidth</th>\n",
       "      <th>phvalue</th>\n",
       "      <th>temp</th>\n",
       "      <th>humid</th>\n",
       "      <th>moist</th>\n",
       "    </tr>\n",
       "  </thead>\n",
       "  <tbody>\n",
       "    <tr>\n",
       "      <th>0</th>\n",
       "      <td>120</td>\n",
       "      <td>24</td>\n",
       "      <td>9</td>\n",
       "      <td>36</td>\n",
       "      <td>55</td>\n",
       "      <td>29</td>\n",
       "    </tr>\n",
       "    <tr>\n",
       "      <th>1</th>\n",
       "      <td>94</td>\n",
       "      <td>25</td>\n",
       "      <td>8</td>\n",
       "      <td>27</td>\n",
       "      <td>104</td>\n",
       "      <td>26</td>\n",
       "    </tr>\n",
       "    <tr>\n",
       "      <th>2</th>\n",
       "      <td>73</td>\n",
       "      <td>22</td>\n",
       "      <td>7</td>\n",
       "      <td>29</td>\n",
       "      <td>67</td>\n",
       "      <td>21</td>\n",
       "    </tr>\n",
       "    <tr>\n",
       "      <th>3</th>\n",
       "      <td>112</td>\n",
       "      <td>39</td>\n",
       "      <td>10</td>\n",
       "      <td>24</td>\n",
       "      <td>73</td>\n",
       "      <td>14</td>\n",
       "    </tr>\n",
       "    <tr>\n",
       "      <th>4</th>\n",
       "      <td>17</td>\n",
       "      <td>31</td>\n",
       "      <td>8</td>\n",
       "      <td>33</td>\n",
       "      <td>41</td>\n",
       "      <td>43</td>\n",
       "    </tr>\n",
       "    <tr>\n",
       "      <th>...</th>\n",
       "      <td>...</td>\n",
       "      <td>...</td>\n",
       "      <td>...</td>\n",
       "      <td>...</td>\n",
       "      <td>...</td>\n",
       "      <td>...</td>\n",
       "    </tr>\n",
       "    <tr>\n",
       "      <th>9995</th>\n",
       "      <td>111</td>\n",
       "      <td>30</td>\n",
       "      <td>3</td>\n",
       "      <td>31</td>\n",
       "      <td>101</td>\n",
       "      <td>19</td>\n",
       "    </tr>\n",
       "    <tr>\n",
       "      <th>9996</th>\n",
       "      <td>44</td>\n",
       "      <td>28</td>\n",
       "      <td>3</td>\n",
       "      <td>21</td>\n",
       "      <td>49</td>\n",
       "      <td>37</td>\n",
       "    </tr>\n",
       "    <tr>\n",
       "      <th>9997</th>\n",
       "      <td>113</td>\n",
       "      <td>23</td>\n",
       "      <td>3</td>\n",
       "      <td>39</td>\n",
       "      <td>73</td>\n",
       "      <td>20</td>\n",
       "    </tr>\n",
       "    <tr>\n",
       "      <th>9998</th>\n",
       "      <td>112</td>\n",
       "      <td>36</td>\n",
       "      <td>7</td>\n",
       "      <td>17</td>\n",
       "      <td>52</td>\n",
       "      <td>39</td>\n",
       "    </tr>\n",
       "    <tr>\n",
       "      <th>9999</th>\n",
       "      <td>105</td>\n",
       "      <td>26</td>\n",
       "      <td>5</td>\n",
       "      <td>23</td>\n",
       "      <td>71</td>\n",
       "      <td>21</td>\n",
       "    </tr>\n",
       "  </tbody>\n",
       "</table>\n",
       "<p>10000 rows × 6 columns</p>\n",
       "</div>"
      ],
      "text/plain": [
       "      plantheight  plantwidth  phvalue  temp  humid  moist\n",
       "0             120          24        9    36     55     29\n",
       "1              94          25        8    27    104     26\n",
       "2              73          22        7    29     67     21\n",
       "3             112          39       10    24     73     14\n",
       "4              17          31        8    33     41     43\n",
       "...           ...         ...      ...   ...    ...    ...\n",
       "9995          111          30        3    31    101     19\n",
       "9996           44          28        3    21     49     37\n",
       "9997          113          23        3    39     73     20\n",
       "9998          112          36        7    17     52     39\n",
       "9999          105          26        5    23     71     21\n",
       "\n",
       "[10000 rows x 6 columns]"
      ]
     },
     "execution_count": 3,
     "metadata": {},
     "output_type": "execute_result"
    }
   ],
   "source": [
    "df"
   ]
  },
  {
   "cell_type": "code",
   "execution_count": 4,
   "metadata": {},
   "outputs": [],
   "source": [
    "t=df['temp'].to_list()"
   ]
  },
  {
   "cell_type": "code",
   "execution_count": 5,
   "metadata": {},
   "outputs": [],
   "source": [
    "light=[]\n",
    "for i in t:\n",
    "    ans=i*289\n",
    "    light.append(ans)"
   ]
  },
  {
   "cell_type": "code",
   "execution_count": 6,
   "metadata": {},
   "outputs": [],
   "source": [
    "df1=pd.DataFrame(light,columns=['light'])"
   ]
  },
  {
   "cell_type": "code",
   "execution_count": 7,
   "metadata": {},
   "outputs": [],
   "source": [
    "df['growth'] = df['plantheight']/df['plantwidth']"
   ]
  },
  {
   "cell_type": "code",
   "execution_count": 8,
   "metadata": {},
   "outputs": [
    {
     "data": {
      "text/html": [
       "<div>\n",
       "<style scoped>\n",
       "    .dataframe tbody tr th:only-of-type {\n",
       "        vertical-align: middle;\n",
       "    }\n",
       "\n",
       "    .dataframe tbody tr th {\n",
       "        vertical-align: top;\n",
       "    }\n",
       "\n",
       "    .dataframe thead th {\n",
       "        text-align: right;\n",
       "    }\n",
       "</style>\n",
       "<table border=\"1\" class=\"dataframe\">\n",
       "  <thead>\n",
       "    <tr style=\"text-align: right;\">\n",
       "      <th></th>\n",
       "      <th>plantheight</th>\n",
       "      <th>plantwidth</th>\n",
       "      <th>phvalue</th>\n",
       "      <th>temp</th>\n",
       "      <th>humid</th>\n",
       "      <th>moist</th>\n",
       "      <th>growth</th>\n",
       "    </tr>\n",
       "  </thead>\n",
       "  <tbody>\n",
       "    <tr>\n",
       "      <th>0</th>\n",
       "      <td>120</td>\n",
       "      <td>24</td>\n",
       "      <td>9</td>\n",
       "      <td>36</td>\n",
       "      <td>55</td>\n",
       "      <td>29</td>\n",
       "      <td>5.000000</td>\n",
       "    </tr>\n",
       "    <tr>\n",
       "      <th>1</th>\n",
       "      <td>94</td>\n",
       "      <td>25</td>\n",
       "      <td>8</td>\n",
       "      <td>27</td>\n",
       "      <td>104</td>\n",
       "      <td>26</td>\n",
       "      <td>3.760000</td>\n",
       "    </tr>\n",
       "    <tr>\n",
       "      <th>2</th>\n",
       "      <td>73</td>\n",
       "      <td>22</td>\n",
       "      <td>7</td>\n",
       "      <td>29</td>\n",
       "      <td>67</td>\n",
       "      <td>21</td>\n",
       "      <td>3.318182</td>\n",
       "    </tr>\n",
       "    <tr>\n",
       "      <th>3</th>\n",
       "      <td>112</td>\n",
       "      <td>39</td>\n",
       "      <td>10</td>\n",
       "      <td>24</td>\n",
       "      <td>73</td>\n",
       "      <td>14</td>\n",
       "      <td>2.871795</td>\n",
       "    </tr>\n",
       "    <tr>\n",
       "      <th>4</th>\n",
       "      <td>17</td>\n",
       "      <td>31</td>\n",
       "      <td>8</td>\n",
       "      <td>33</td>\n",
       "      <td>41</td>\n",
       "      <td>43</td>\n",
       "      <td>0.548387</td>\n",
       "    </tr>\n",
       "    <tr>\n",
       "      <th>...</th>\n",
       "      <td>...</td>\n",
       "      <td>...</td>\n",
       "      <td>...</td>\n",
       "      <td>...</td>\n",
       "      <td>...</td>\n",
       "      <td>...</td>\n",
       "      <td>...</td>\n",
       "    </tr>\n",
       "    <tr>\n",
       "      <th>9995</th>\n",
       "      <td>111</td>\n",
       "      <td>30</td>\n",
       "      <td>3</td>\n",
       "      <td>31</td>\n",
       "      <td>101</td>\n",
       "      <td>19</td>\n",
       "      <td>3.700000</td>\n",
       "    </tr>\n",
       "    <tr>\n",
       "      <th>9996</th>\n",
       "      <td>44</td>\n",
       "      <td>28</td>\n",
       "      <td>3</td>\n",
       "      <td>21</td>\n",
       "      <td>49</td>\n",
       "      <td>37</td>\n",
       "      <td>1.571429</td>\n",
       "    </tr>\n",
       "    <tr>\n",
       "      <th>9997</th>\n",
       "      <td>113</td>\n",
       "      <td>23</td>\n",
       "      <td>3</td>\n",
       "      <td>39</td>\n",
       "      <td>73</td>\n",
       "      <td>20</td>\n",
       "      <td>4.913043</td>\n",
       "    </tr>\n",
       "    <tr>\n",
       "      <th>9998</th>\n",
       "      <td>112</td>\n",
       "      <td>36</td>\n",
       "      <td>7</td>\n",
       "      <td>17</td>\n",
       "      <td>52</td>\n",
       "      <td>39</td>\n",
       "      <td>3.111111</td>\n",
       "    </tr>\n",
       "    <tr>\n",
       "      <th>9999</th>\n",
       "      <td>105</td>\n",
       "      <td>26</td>\n",
       "      <td>5</td>\n",
       "      <td>23</td>\n",
       "      <td>71</td>\n",
       "      <td>21</td>\n",
       "      <td>4.038462</td>\n",
       "    </tr>\n",
       "  </tbody>\n",
       "</table>\n",
       "<p>10000 rows × 7 columns</p>\n",
       "</div>"
      ],
      "text/plain": [
       "      plantheight  plantwidth  phvalue  temp  humid  moist    growth\n",
       "0             120          24        9    36     55     29  5.000000\n",
       "1              94          25        8    27    104     26  3.760000\n",
       "2              73          22        7    29     67     21  3.318182\n",
       "3             112          39       10    24     73     14  2.871795\n",
       "4              17          31        8    33     41     43  0.548387\n",
       "...           ...         ...      ...   ...    ...    ...       ...\n",
       "9995          111          30        3    31    101     19  3.700000\n",
       "9996           44          28        3    21     49     37  1.571429\n",
       "9997          113          23        3    39     73     20  4.913043\n",
       "9998          112          36        7    17     52     39  3.111111\n",
       "9999          105          26        5    23     71     21  4.038462\n",
       "\n",
       "[10000 rows x 7 columns]"
      ]
     },
     "execution_count": 8,
     "metadata": {},
     "output_type": "execute_result"
    }
   ],
   "source": [
    "df"
   ]
  },
  {
   "cell_type": "code",
   "execution_count": 9,
   "metadata": {},
   "outputs": [],
   "source": [
    "df.loc[df['growth'] >2, 'possible'] = '1'\n",
    "df.loc[df['growth'] <=2, 'possible'] = '0'"
   ]
  },
  {
   "cell_type": "code",
   "execution_count": 10,
   "metadata": {},
   "outputs": [
    {
     "data": {
      "text/html": [
       "<div>\n",
       "<style scoped>\n",
       "    .dataframe tbody tr th:only-of-type {\n",
       "        vertical-align: middle;\n",
       "    }\n",
       "\n",
       "    .dataframe tbody tr th {\n",
       "        vertical-align: top;\n",
       "    }\n",
       "\n",
       "    .dataframe thead th {\n",
       "        text-align: right;\n",
       "    }\n",
       "</style>\n",
       "<table border=\"1\" class=\"dataframe\">\n",
       "  <thead>\n",
       "    <tr style=\"text-align: right;\">\n",
       "      <th></th>\n",
       "      <th>plantheight</th>\n",
       "      <th>plantwidth</th>\n",
       "      <th>phvalue</th>\n",
       "      <th>temp</th>\n",
       "      <th>humid</th>\n",
       "      <th>moist</th>\n",
       "      <th>growth</th>\n",
       "      <th>possible</th>\n",
       "    </tr>\n",
       "  </thead>\n",
       "  <tbody>\n",
       "    <tr>\n",
       "      <th>0</th>\n",
       "      <td>120</td>\n",
       "      <td>24</td>\n",
       "      <td>9</td>\n",
       "      <td>36</td>\n",
       "      <td>55</td>\n",
       "      <td>29</td>\n",
       "      <td>5.000000</td>\n",
       "      <td>1</td>\n",
       "    </tr>\n",
       "    <tr>\n",
       "      <th>1</th>\n",
       "      <td>94</td>\n",
       "      <td>25</td>\n",
       "      <td>8</td>\n",
       "      <td>27</td>\n",
       "      <td>104</td>\n",
       "      <td>26</td>\n",
       "      <td>3.760000</td>\n",
       "      <td>1</td>\n",
       "    </tr>\n",
       "    <tr>\n",
       "      <th>2</th>\n",
       "      <td>73</td>\n",
       "      <td>22</td>\n",
       "      <td>7</td>\n",
       "      <td>29</td>\n",
       "      <td>67</td>\n",
       "      <td>21</td>\n",
       "      <td>3.318182</td>\n",
       "      <td>1</td>\n",
       "    </tr>\n",
       "    <tr>\n",
       "      <th>3</th>\n",
       "      <td>112</td>\n",
       "      <td>39</td>\n",
       "      <td>10</td>\n",
       "      <td>24</td>\n",
       "      <td>73</td>\n",
       "      <td>14</td>\n",
       "      <td>2.871795</td>\n",
       "      <td>1</td>\n",
       "    </tr>\n",
       "    <tr>\n",
       "      <th>4</th>\n",
       "      <td>17</td>\n",
       "      <td>31</td>\n",
       "      <td>8</td>\n",
       "      <td>33</td>\n",
       "      <td>41</td>\n",
       "      <td>43</td>\n",
       "      <td>0.548387</td>\n",
       "      <td>0</td>\n",
       "    </tr>\n",
       "    <tr>\n",
       "      <th>...</th>\n",
       "      <td>...</td>\n",
       "      <td>...</td>\n",
       "      <td>...</td>\n",
       "      <td>...</td>\n",
       "      <td>...</td>\n",
       "      <td>...</td>\n",
       "      <td>...</td>\n",
       "      <td>...</td>\n",
       "    </tr>\n",
       "    <tr>\n",
       "      <th>9995</th>\n",
       "      <td>111</td>\n",
       "      <td>30</td>\n",
       "      <td>3</td>\n",
       "      <td>31</td>\n",
       "      <td>101</td>\n",
       "      <td>19</td>\n",
       "      <td>3.700000</td>\n",
       "      <td>1</td>\n",
       "    </tr>\n",
       "    <tr>\n",
       "      <th>9996</th>\n",
       "      <td>44</td>\n",
       "      <td>28</td>\n",
       "      <td>3</td>\n",
       "      <td>21</td>\n",
       "      <td>49</td>\n",
       "      <td>37</td>\n",
       "      <td>1.571429</td>\n",
       "      <td>0</td>\n",
       "    </tr>\n",
       "    <tr>\n",
       "      <th>9997</th>\n",
       "      <td>113</td>\n",
       "      <td>23</td>\n",
       "      <td>3</td>\n",
       "      <td>39</td>\n",
       "      <td>73</td>\n",
       "      <td>20</td>\n",
       "      <td>4.913043</td>\n",
       "      <td>1</td>\n",
       "    </tr>\n",
       "    <tr>\n",
       "      <th>9998</th>\n",
       "      <td>112</td>\n",
       "      <td>36</td>\n",
       "      <td>7</td>\n",
       "      <td>17</td>\n",
       "      <td>52</td>\n",
       "      <td>39</td>\n",
       "      <td>3.111111</td>\n",
       "      <td>1</td>\n",
       "    </tr>\n",
       "    <tr>\n",
       "      <th>9999</th>\n",
       "      <td>105</td>\n",
       "      <td>26</td>\n",
       "      <td>5</td>\n",
       "      <td>23</td>\n",
       "      <td>71</td>\n",
       "      <td>21</td>\n",
       "      <td>4.038462</td>\n",
       "      <td>1</td>\n",
       "    </tr>\n",
       "  </tbody>\n",
       "</table>\n",
       "<p>10000 rows × 8 columns</p>\n",
       "</div>"
      ],
      "text/plain": [
       "      plantheight  plantwidth  phvalue  temp  humid  moist    growth possible\n",
       "0             120          24        9    36     55     29  5.000000        1\n",
       "1              94          25        8    27    104     26  3.760000        1\n",
       "2              73          22        7    29     67     21  3.318182        1\n",
       "3             112          39       10    24     73     14  2.871795        1\n",
       "4              17          31        8    33     41     43  0.548387        0\n",
       "...           ...         ...      ...   ...    ...    ...       ...      ...\n",
       "9995          111          30        3    31    101     19  3.700000        1\n",
       "9996           44          28        3    21     49     37  1.571429        0\n",
       "9997          113          23        3    39     73     20  4.913043        1\n",
       "9998          112          36        7    17     52     39  3.111111        1\n",
       "9999          105          26        5    23     71     21  4.038462        1\n",
       "\n",
       "[10000 rows x 8 columns]"
      ]
     },
     "execution_count": 10,
     "metadata": {},
     "output_type": "execute_result"
    }
   ],
   "source": [
    "df"
   ]
  },
  {
   "cell_type": "code",
   "execution_count": 11,
   "metadata": {},
   "outputs": [
    {
     "data": {
      "text/plain": [
       "1    6243\n",
       "0    3757\n",
       "Name: possible, dtype: int64"
      ]
     },
     "execution_count": 11,
     "metadata": {},
     "output_type": "execute_result"
    }
   ],
   "source": [
    "df['possible'].value_counts()"
   ]
  },
  {
   "cell_type": "code",
   "execution_count": 12,
   "metadata": {},
   "outputs": [],
   "source": [
    "frames=[df,df1]\n",
    "dff=pd.concat(frames,axis=1)"
   ]
  },
  {
   "cell_type": "code",
   "execution_count": 13,
   "metadata": {},
   "outputs": [],
   "source": [
    "dff.to_csv('data.csv')"
   ]
  },
  {
   "cell_type": "code",
   "execution_count": 69,
   "metadata": {},
   "outputs": [],
   "source": [
    "import pandas as pd\n",
    "dff=pd.read_csv(\"data.csv\")"
   ]
  },
  {
   "cell_type": "code",
   "execution_count": 70,
   "metadata": {},
   "outputs": [],
   "source": [
    "x=dff.drop(['possible','plantheight','plantwidth','phvalue'],axis=1)#independent\n",
    "y=dff['possible']#dependent"
   ]
  },
  {
   "cell_type": "code",
   "execution_count": 16,
   "metadata": {},
   "outputs": [],
   "source": [
    "from sklearn.ensemble import AdaBoostClassifier\n",
    "from sklearn.tree import DecisionTreeClassifier\n",
    "\n",
    "import pandas as pd\n",
    "import numpy as np\n",
    "from sklearn.model_selection import train_test_split\n",
    "from sklearn.metrics import confusion_matrix\n",
    "import pickle\n",
    "from sklearn.preprocessing import LabelEncoder"
   ]
  },
  {
   "cell_type": "code",
   "execution_count": 71,
   "metadata": {},
   "outputs": [],
   "source": [
    "x_train,x_test , y_train, y_test = train_test_split(x, y,test_size=0.5)"
   ]
  },
  {
   "cell_type": "code",
   "execution_count": 18,
   "metadata": {},
   "outputs": [
    {
     "data": {
      "text/plain": [
       "6"
      ]
     },
     "execution_count": 18,
     "metadata": {},
     "output_type": "execute_result"
    }
   ],
   "source": [
    "len(x_train.columns)"
   ]
  },
  {
   "cell_type": "code",
   "execution_count": 19,
   "metadata": {},
   "outputs": [
    {
     "data": {
      "text/plain": [
       "7005    1\n",
       "6994    1\n",
       "4111    0\n",
       "5279    0\n",
       "8386    1\n",
       "       ..\n",
       "6270    0\n",
       "9461    0\n",
       "6312    0\n",
       "3216    0\n",
       "4155    1\n",
       "Name: possible, Length: 5000, dtype: int64"
      ]
     },
     "execution_count": 19,
     "metadata": {},
     "output_type": "execute_result"
    }
   ],
   "source": [
    "y_train"
   ]
  },
  {
   "cell_type": "code",
   "execution_count": 20,
   "metadata": {},
   "outputs": [
    {
     "data": {
      "text/plain": [
       "8058    0\n",
       "1508    0\n",
       "4807    0\n",
       "7557    1\n",
       "5157    0\n",
       "       ..\n",
       "7705    0\n",
       "1779    0\n",
       "8505    0\n",
       "9895    0\n",
       "3961    0\n",
       "Name: possible, Length: 5000, dtype: int64"
      ]
     },
     "execution_count": 20,
     "metadata": {},
     "output_type": "execute_result"
    }
   ],
   "source": [
    "y_test"
   ]
  },
  {
   "cell_type": "code",
   "execution_count": 21,
   "metadata": {},
   "outputs": [],
   "source": [
    "from sklearn import metrics\n",
    "from sklearn.tree import DecisionTreeClassifier\n",
    "from sklearn.model_selection import train_test_split\n",
    "from sklearn.metrics import roc_curve,roc_auc_score,f1_score\n",
    "from sklearn.ensemble import RandomForestClassifier\n",
    "from sklearn.metrics import confusion_matrix\n",
    "from sklearn.metrics import accuracy_score\n",
    "from sklearn.metrics import roc_curve\n",
    "from sklearn.metrics import f1_score\n",
    "from sklearn.metrics import precision_score,recall_score\n",
    "from sklearn.metrics import roc_auc_score,roc_curve,scorer"
   ]
  },
  {
   "cell_type": "markdown",
   "metadata": {},
   "source": [
    "### Logistic Regression"
   ]
  },
  {
   "cell_type": "code",
   "execution_count": 22,
   "metadata": {},
   "outputs": [
    {
     "name": "stderr",
     "output_type": "stream",
     "text": [
      "C:\\Users\\Prathamesh\\AppData\\Roaming\\Python\\Python38\\site-packages\\sklearn\\linear_model\\logistic.py:430: FutureWarning: Default solver will be changed to 'lbfgs' in 0.22. Specify a solver to silence this warning.\n",
      "  warnings.warn(\"Default solver will be changed to 'lbfgs' in 0.22. \"\n"
     ]
    }
   ],
   "source": [
    "from sklearn.linear_model import LogisticRegression\n",
    "\n",
    "lr = LogisticRegression()\n",
    "\n",
    "lr.fit(x_train,y_train)#train model\n",
    "\n",
    "Y_pred_lr = lr.predict(x_test)\n"
   ]
  },
  {
   "cell_type": "code",
   "execution_count": 23,
   "metadata": {},
   "outputs": [
    {
     "name": "stdout",
     "output_type": "stream",
     "text": [
      "The accuracy score achieved using Logistic Regression is: 95.12 %\n"
     ]
    }
   ],
   "source": [
    "score_lr = round(accuracy_score(Y_pred_lr,y_test)*100,2)\n",
    "\n",
    "print(\"The accuracy score achieved using Logistic Regression is: \"+str(score_lr)+\" %\")"
   ]
  },
  {
   "cell_type": "code",
   "execution_count": 24,
   "metadata": {},
   "outputs": [],
   "source": [
    "import matplotlib.pyplot as plt\n",
    "import seaborn as sns"
   ]
  },
  {
   "cell_type": "code",
   "execution_count": 25,
   "metadata": {},
   "outputs": [
    {
     "data": {
      "text/plain": [
       "<AxesSubplot:title={'center':'Logistic_Regression'}>"
      ]
     },
     "execution_count": 25,
     "metadata": {},
     "output_type": "execute_result"
    },
    {
     "data": {
      "image/png": "[encoded data removed]",
      "text/plain": [
       "<Figure size 432x288 with 1 Axes>"
      ]
     },
     "metadata": {
      "needs_background": "light"
     },
     "output_type": "display_data"
    }
   ],
   "source": [
    "lr_cm=confusion_matrix(y_test,Y_pred_lr)\n",
    "plt.title(\"Logistic_Regression\")\n",
    "sns.heatmap(lr_cm,annot=True,cmap=\"Blues\",fmt=\"d\",cbar=False)"
   ]
  },
  {
   "cell_type": "code",
   "execution_count": 26,
   "metadata": {},
   "outputs": [],
   "source": [
    "import pickle\n",
    "with open('model_crop_Logistic_regression.sav','wb') as f:\n",
    "    pickle.dump(lr,f)"
   ]
  },
  {
   "cell_type": "markdown",
   "metadata": {},
   "source": [
    "# SVM Linear"
   ]
  },
  {
   "cell_type": "code",
   "execution_count": 27,
   "metadata": {},
   "outputs": [
    {
     "name": "stdout",
     "output_type": "stream",
     "text": [
      "The accuracy score achieved using Linear SVM is: 99.48 %\n"
     ]
    }
   ],
   "source": [
    "from sklearn import svm\n",
    "\n",
    "sv = svm.SVC(kernel='linear')\n",
    "\n",
    "sv.fit(x_train, y_train)\n",
    "\n",
    "Y_pred_svm = sv.predict(x_test)\n",
    "score_svm = round(accuracy_score(Y_pred_svm,y_test)*100,2)\n",
    "\n",
    "print(\"The accuracy score achieved using Linear SVM is: \"+str(score_svm)+\" %\")"
   ]
  },
  {
   "cell_type": "code",
   "execution_count": 28,
   "metadata": {},
   "outputs": [
    {
     "data": {
      "text/plain": [
       "<AxesSubplot:title={'center':'SVM'}>"
      ]
     },
     "execution_count": 28,
     "metadata": {},
     "output_type": "execute_result"
    },
    {
     "data": {
      "image/png": "[encoded data removed]",
      "text/plain": [
       "<Figure size 432x288 with 1 Axes>"
      ]
     },
     "metadata": {
      "needs_background": "light"
     },
     "output_type": "display_data"
    }
   ],
   "source": [
    "lr_cm=confusion_matrix(y_test,Y_pred_svm)\n",
    "plt.title(\"SVM\")\n",
    "sns.heatmap(lr_cm,annot=True,cmap=\"Blues\",fmt=\"d\",cbar=False)"
   ]
  },
  {
   "cell_type": "code",
   "execution_count": 29,
   "metadata": {},
   "outputs": [],
   "source": [
    "import pickle\n",
    "with open('model_crop_SVM.sav','wb') as f:\n",
    "    pickle.dump(sv,f)"
   ]
  },
  {
   "cell_type": "markdown",
   "metadata": {},
   "source": [
    "### Naive Bayes"
   ]
  },
  {
   "cell_type": "code",
   "execution_count": 30,
   "metadata": {},
   "outputs": [],
   "source": [
    "from sklearn.naive_bayes import GaussianNB\n",
    "\n",
    "nb = GaussianNB()\n",
    "\n",
    "nb.fit(x_train,y_train)\n",
    "nb.score(x_test,y_test)\n",
    "Y_pred_nb = nb.predict(x_test)"
   ]
  },
  {
   "cell_type": "code",
   "execution_count": 31,
   "metadata": {},
   "outputs": [
    {
     "name": "stdout",
     "output_type": "stream",
     "text": [
      "The accuracy score achieved using Naive Bayes is: 99.46 %\n"
     ]
    }
   ],
   "source": [
    "score_nb = round(accuracy_score(Y_pred_nb,y_test)*100,2)\n",
    "\n",
    "print(\"The accuracy score achieved using Naive Bayes is: \"+str(score_nb)+\" %\")"
   ]
  },
  {
   "cell_type": "code",
   "execution_count": 32,
   "metadata": {},
   "outputs": [
    {
     "data": {
      "text/plain": [
       "<AxesSubplot:title={'center':'Naive Bayes'}>"
      ]
     },
     "execution_count": 32,
     "metadata": {},
     "output_type": "execute_result"
    },
    {
     "data": {
      "image/png": "[encoded data removed]",
      "text/plain": [
       "<Figure size 432x288 with 1 Axes>"
      ]
     },
     "metadata": {
      "needs_background": "light"
     },
     "output_type": "display_data"
    }
   ],
   "source": [
    "lr_cm=confusion_matrix(y_test,Y_pred_nb)\n",
    "plt.title(\"Naive Bayes\")\n",
    "sns.heatmap(lr_cm,annot=True,cmap=\"Blues\",fmt=\"d\",cbar=False)"
   ]
  },
  {
   "cell_type": "code",
   "execution_count": 33,
   "metadata": {},
   "outputs": [],
   "source": [
    "import pickle\n",
    "with open('model_crop_nb.sav','wb') as f:\n",
    "    pickle.dump(nb,f)"
   ]
  },
  {
   "cell_type": "markdown",
   "metadata": {},
   "source": [
    "# Decision Tree"
   ]
  },
  {
   "cell_type": "code",
   "execution_count": 34,
   "metadata": {},
   "outputs": [
    {
     "name": "stdout",
     "output_type": "stream",
     "text": [
      "The accuracy score achieved using Decision Tree is: 100.0 %\n"
     ]
    }
   ],
   "source": [
    "dt=DecisionTreeClassifier()\n",
    "dt.fit(x_train,y_train)\n",
    "Y_pred_dt = dt.predict(x_test)\n",
    "score_dt = round(accuracy_score(Y_pred_dt,y_test)*100,2)\n",
    "\n",
    "print(\"The accuracy score achieved using Decision Tree is: \"+str(score_dt)+\" %\")"
   ]
  },
  {
   "cell_type": "code",
   "execution_count": 35,
   "metadata": {},
   "outputs": [
    {
     "data": {
      "text/plain": [
       "<AxesSubplot:title={'center':'Decision Tree'}>"
      ]
     },
     "execution_count": 35,
     "metadata": {},
     "output_type": "execute_result"
    },
    {
     "data": {
      "image/png": "[encoded data removed]",
      "text/plain": [
       "<Figure size 432x288 with 1 Axes>"
      ]
     },
     "metadata": {
      "needs_background": "light"
     },
     "output_type": "display_data"
    }
   ],
   "source": [
    "lr_cm=confusion_matrix(y_test,Y_pred_dt)\n",
    "plt.title(\"Decision Tree\")\n",
    "sns.heatmap(lr_cm,annot=True,cmap=\"Blues\",fmt=\"d\",cbar=False)"
   ]
  },
  {
   "cell_type": "code",
   "execution_count": 36,
   "metadata": {},
   "outputs": [],
   "source": [
    "import pickle\n",
    "with open('model_crop_dt.sav','wb') as f:\n",
    "    pickle.dump(dt,f)"
   ]
  },
  {
   "cell_type": "markdown",
   "metadata": {},
   "source": [
    "# Random Forest"
   ]
  },
  {
   "cell_type": "code",
   "execution_count": 37,
   "metadata": {},
   "outputs": [
    {
     "name": "stderr",
     "output_type": "stream",
     "text": [
      "[Parallel(n_jobs=2)]: Using backend ThreadingBackend with 2 concurrent workers.\n"
     ]
    },
    {
     "name": "stdout",
     "output_type": "stream",
     "text": [
      "building tree 1 of 10\n",
      "building tree 2 of 10\n",
      "building tree 3 of 10\n",
      "building tree 4 of 10\n",
      "building tree 5 of 10\n",
      "building tree 6 of 10\n",
      "building tree 7 of 10\n",
      "building tree 8 of 10\n",
      "building tree 9 of 10\n",
      "building tree 10 of 10\n"
     ]
    },
    {
     "name": "stderr",
     "output_type": "stream",
     "text": [
      "[Parallel(n_jobs=2)]: Done  10 out of  10 | elapsed:    0.2s finished\n",
      "[Parallel(n_jobs=2)]: Using backend ThreadingBackend with 2 concurrent workers.\n",
      "[Parallel(n_jobs=2)]: Done  10 out of  10 | elapsed:    0.0s finished\n",
      "[Parallel(n_jobs=2)]: Using backend ThreadingBackend with 2 concurrent workers.\n",
      "[Parallel(n_jobs=2)]: Done  10 out of  10 | elapsed:    0.0s finished\n"
     ]
    }
   ],
   "source": [
    "rfc=RandomForestClassifier(n_estimators=10,n_jobs=2,verbose=2)\n",
    "rfc.fit(x_train,y_train)\n",
    "score_rf=rfc.score(x_test,y_test)\n",
    "Y_pred_rf = rfc.predict(x_test)\n",
    "score_rf=round(accuracy_score(Y_pred_rf,y_test)*100,2)"
   ]
  },
  {
   "cell_type": "code",
   "execution_count": 38,
   "metadata": {},
   "outputs": [
    {
     "data": {
      "text/plain": [
       "100.0"
      ]
     },
     "execution_count": 38,
     "metadata": {},
     "output_type": "execute_result"
    }
   ],
   "source": [
    "score_rf"
   ]
  },
  {
   "cell_type": "code",
   "execution_count": 39,
   "metadata": {},
   "outputs": [
    {
     "data": {
      "text/plain": [
       "<AxesSubplot:title={'center':'Random Forest'}>"
      ]
     },
     "execution_count": 39,
     "metadata": {},
     "output_type": "execute_result"
    },
    {
     "data": {
      "image/png": "[encoded data removed]",
      "text/plain": [
       "<Figure size 432x288 with 1 Axes>"
      ]
     },
     "metadata": {
      "needs_background": "light"
     },
     "output_type": "display_data"
    }
   ],
   "source": [
    "lr_cm=confusion_matrix(y_test,Y_pred_dt)\n",
    "plt.title(\"Random Forest\")\n",
    "sns.heatmap(lr_cm,annot=True,cmap=\"Blues\",fmt=\"d\",cbar=False)"
   ]
  },
  {
   "cell_type": "code",
   "execution_count": 40,
   "metadata": {},
   "outputs": [],
   "source": [
    "import pickle\n",
    "with open('model_crop_rf.sav','wb') as f:\n",
    "    pickle.dump(rfc,f)"
   ]
  },
  {
   "cell_type": "markdown",
   "metadata": {},
   "source": [
    " # Adaptive Boost Classifier"
   ]
  },
  {
   "cell_type": "code",
   "execution_count": 41,
   "metadata": {},
   "outputs": [],
   "source": [
    "ada = AdaBoostClassifier(DecisionTreeClassifier(max_depth=1),n_estimators=200)\n",
    "ada.fit(x_train, y_train)\n",
    "ada.score(x_test,y_test)\n",
    "predictions = ada.predict(x_test)\n"
   ]
  },
  {
   "cell_type": "code",
   "execution_count": 42,
   "metadata": {},
   "outputs": [
    {
     "name": "stdout",
     "output_type": "stream",
     "text": [
      "The accuracy score achieved using Decision Tree is: 100.0 %\n"
     ]
    }
   ],
   "source": [
    "score_ada = round(accuracy_score(predictions,y_test)*100,2)\n",
    "\n",
    "print(\"The accuracy score achieved using Decision Tree is: \"+str(score_ada)+\" %\")"
   ]
  },
  {
   "cell_type": "code",
   "execution_count": 43,
   "metadata": {},
   "outputs": [
    {
     "data": {
      "text/plain": [
       "<AxesSubplot:title={'center':'ADA Boost'}>"
      ]
     },
     "execution_count": 43,
     "metadata": {},
     "output_type": "execute_result"
    },
    {
     "data": {
      "image/png": "[encoded data removed]",
      "text/plain": [
       "<Figure size 432x288 with 1 Axes>"
      ]
     },
     "metadata": {
      "needs_background": "light"
     },
     "output_type": "display_data"
    }
   ],
   "source": [
    "lr_cm=confusion_matrix(y_test,predictions)\n",
    "plt.title(\"ADA Boost\")\n",
    "sns.heatmap(lr_cm,annot=True,cmap=\"Blues\",fmt=\"d\",cbar=False)"
   ]
  },
  {
   "cell_type": "code",
   "execution_count": 44,
   "metadata": {},
   "outputs": [],
   "source": [
    "import pickle\n",
    "with open('model_crop_ada.sav','wb') as f:\n",
    "    pickle.dump(ada,f)"
   ]
  },
  {
   "cell_type": "code",
   "execution_count": null,
   "metadata": {},
   "outputs": [],
   "source": []
  },
  {
   "cell_type": "code",
   "execution_count": 72,
   "metadata": {},
   "outputs": [],
   "source": [
    "import tensorflow as tf\n",
    "from tensorflow import keras\n",
    "model=tf.keras.Sequential([\n",
    "    keras.layers.Dense(20,input_shape=(6,),activation='relu'),\n",
    "    keras.layers.Dense(10,activation='relu'),\n",
    "    keras.layers.Dense(1,activation='sigmoid'),\n",
    "])"
   ]
  },
  {
   "cell_type": "code",
   "execution_count": 73,
   "metadata": {},
   "outputs": [],
   "source": [
    "model.compile(optimizer='adam',loss='binary_crossentropy',metrics=['accuracy'])"
   ]
  },
  {
   "cell_type": "code",
   "execution_count": 74,
   "metadata": {},
   "outputs": [
    {
     "name": "stdout",
     "output_type": "stream",
     "text": [
      "Epoch 1/300\n",
      "157/157 [==============================] - 0s 748us/step - loss: 384.1159 - accuracy: 0.6060\n",
      "Epoch 2/300\n",
      "157/157 [==============================] - 0s 883us/step - loss: 13.5282 - accuracy: 0.6020\n",
      "Epoch 3/300\n",
      "157/157 [==============================] - 0s 794us/step - loss: 1.5782 - accuracy: 0.5842\n",
      "Epoch 4/300\n",
      "157/157 [==============================] - 0s 805us/step - loss: 0.7170 - accuracy: 0.5712\n",
      "Epoch 5/300\n",
      "157/157 [==============================] - 0s 819us/step - loss: 0.6759 - accuracy: 0.5718\n",
      "Epoch 6/300\n",
      "157/157 [==============================] - 0s 797us/step - loss: 0.6776 - accuracy: 0.5720\n",
      "Epoch 7/300\n",
      "157/157 [==============================] - 0s 779us/step - loss: 0.6715 - accuracy: 0.6232\n",
      "Epoch 8/300\n",
      "157/157 [==============================] - 0s 797us/step - loss: 0.6696 - accuracy: 0.6286\n",
      "Epoch 9/300\n",
      "157/157 [==============================] - 0s 827us/step - loss: 0.6687 - accuracy: 0.6228\n",
      "Epoch 10/300\n",
      "157/157 [==============================] - 0s 826us/step - loss: 0.6688 - accuracy: 0.6278\n",
      "Epoch 11/300\n",
      "157/157 [==============================] - 0s 820us/step - loss: 0.6666 - accuracy: 0.6286\n",
      "Epoch 12/300\n",
      "157/157 [==============================] - 0s 813us/step - loss: 0.6658 - accuracy: 0.6286\n",
      "Epoch 13/300\n",
      "157/157 [==============================] - 0s 782us/step - loss: 0.6639 - accuracy: 0.6286\n",
      "Epoch 14/300\n",
      "157/157 [==============================] - 0s 788us/step - loss: 0.6636 - accuracy: 0.6286\n",
      "Epoch 15/300\n",
      "157/157 [==============================] - 0s 737us/step - loss: 0.6625 - accuracy: 0.6286\n",
      "Epoch 16/300\n",
      "157/157 [==============================] - 0s 788us/step - loss: 0.6617 - accuracy: 0.6286\n",
      "Epoch 17/300\n",
      "157/157 [==============================] - 0s 831us/step - loss: 0.6613 - accuracy: 0.6286\n",
      "Epoch 18/300\n",
      "157/157 [==============================] - 0s 1ms/step - loss: 0.6611 - accuracy: 0.6286\n",
      "Epoch 19/300\n",
      "157/157 [==============================] - 0s 915us/step - loss: 0.6606 - accuracy: 0.6286\n",
      "Epoch 20/300\n",
      "157/157 [==============================] - 0s 775us/step - loss: 0.6602 - accuracy: 0.6286\n",
      "Epoch 21/300\n",
      "157/157 [==============================] - 0s 832us/step - loss: 0.6600 - accuracy: 0.6286\n",
      "Epoch 22/300\n",
      "157/157 [==============================] - 0s 1ms/step - loss: 0.6599 - accuracy: 0.6286\n",
      "Epoch 23/300\n",
      "157/157 [==============================] - 0s 781us/step - loss: 0.6598 - accuracy: 0.6286\n",
      "Epoch 24/300\n",
      "157/157 [==============================] - 0s 871us/step - loss: 0.6599 - accuracy: 0.6286\n",
      "Epoch 25/300\n",
      "157/157 [==============================] - 0s 1ms/step - loss: 0.6598 - accuracy: 0.6286\n",
      "Epoch 26/300\n",
      "157/157 [==============================] - 0s 959us/step - loss: 0.6598 - accuracy: 0.6286\n",
      "Epoch 27/300\n",
      "157/157 [==============================] - 0s 909us/step - loss: 0.6597 - accuracy: 0.6286\n",
      "Epoch 28/300\n",
      "157/157 [==============================] - 0s 947us/step - loss: 0.6597 - accuracy: 0.6286\n",
      "Epoch 29/300\n",
      "157/157 [==============================] - 0s 813us/step - loss: 0.6598 - accuracy: 0.6286\n",
      "Epoch 30/300\n",
      "157/157 [==============================] - 0s 934us/step - loss: 0.6597 - accuracy: 0.6286\n",
      "Epoch 31/300\n",
      "157/157 [==============================] - 0s 800us/step - loss: 0.6597 - accuracy: 0.6286\n",
      "Epoch 32/300\n",
      "157/157 [==============================] - 0s 710us/step - loss: 0.6597 - accuracy: 0.6286\n",
      "Epoch 33/300\n",
      "157/157 [==============================] - 0s 839us/step - loss: 0.6597 - accuracy: 0.6286\n",
      "Epoch 34/300\n",
      "157/157 [==============================] - 0s 1ms/step - loss: 0.6597 - accuracy: 0.6286\n",
      "Epoch 35/300\n",
      "157/157 [==============================] - 0s 807us/step - loss: 0.6597 - accuracy: 0.6286\n",
      "Epoch 36/300\n",
      "157/157 [==============================] - 0s 832us/step - loss: 0.6597 - accuracy: 0.6286\n",
      "Epoch 37/300\n",
      "157/157 [==============================] - 0s 978us/step - loss: 0.6597 - accuracy: 0.6286\n",
      "Epoch 38/300\n",
      "157/157 [==============================] - 0s 966us/step - loss: 0.6597 - accuracy: 0.6286\n",
      "Epoch 39/300\n",
      "157/157 [==============================] - 0s 851us/step - loss: 0.6597 - accuracy: 0.6286\n",
      "Epoch 40/300\n",
      "157/157 [==============================] - 0s 966us/step - loss: 0.6597 - accuracy: 0.6286\n",
      "Epoch 41/300\n",
      "157/157 [==============================] - 0s 1ms/step - loss: 0.6597 - accuracy: 0.6286\n",
      "Epoch 42/300\n",
      "157/157 [==============================] - 0s 723us/step - loss: 0.6597 - accuracy: 0.6286\n",
      "Epoch 43/300\n",
      "157/157 [==============================] - 0s 799us/step - loss: 0.6597 - accuracy: 0.6286\n",
      "Epoch 44/300\n",
      "157/157 [==============================] - 0s 1ms/step - loss: 0.6597 - accuracy: 0.6286\n",
      "Epoch 45/300\n",
      "157/157 [==============================] - 0s 877us/step - loss: 0.6598 - accuracy: 0.6286\n",
      "Epoch 46/300\n",
      "157/157 [==============================] - 0s 851us/step - loss: 0.6597 - accuracy: 0.6286\n",
      "Epoch 47/300\n",
      "157/157 [==============================] - 0s 756us/step - loss: 0.6597 - accuracy: 0.6286\n",
      "Epoch 48/300\n",
      "157/157 [==============================] - 0s 781us/step - loss: 0.6597 - accuracy: 0.6286\n",
      "Epoch 49/300\n",
      "157/157 [==============================] - 0s 768us/step - loss: 0.6597 - accuracy: 0.6286\n",
      "Epoch 50/300\n",
      "157/157 [==============================] - 0s 788us/step - loss: 0.6597 - accuracy: 0.6286\n",
      "Epoch 51/300\n",
      "157/157 [==============================] - 0s 737us/step - loss: 0.6597 - accuracy: 0.6286\n",
      "Epoch 52/300\n",
      "157/157 [==============================] - 0s 743us/step - loss: 0.6597 - accuracy: 0.6286\n",
      "Epoch 53/300\n",
      "157/157 [==============================] - 0s 725us/step - loss: 0.6598 - accuracy: 0.6286\n",
      "Epoch 54/300\n",
      "157/157 [==============================] - 0s 718us/step - loss: 0.6597 - accuracy: 0.6286\n",
      "Epoch 55/300\n",
      "157/157 [==============================] - 0s 718us/step - loss: 0.6597 - accuracy: 0.6286\n",
      "Epoch 56/300\n",
      "157/157 [==============================] - 0s 703us/step - loss: 0.6597 - accuracy: 0.6286\n",
      "Epoch 57/300\n",
      "157/157 [==============================] - 0s 724us/step - loss: 0.6597 - accuracy: 0.6286\n",
      "Epoch 58/300\n",
      "157/157 [==============================] - 0s 730us/step - loss: 0.6597 - accuracy: 0.6286\n",
      "Epoch 59/300\n",
      "157/157 [==============================] - 0s 730us/step - loss: 0.6597 - accuracy: 0.6286\n",
      "Epoch 60/300\n",
      "157/157 [==============================] - 0s 729us/step - loss: 0.6597 - accuracy: 0.6286\n",
      "Epoch 61/300\n",
      "157/157 [==============================] - 0s 743us/step - loss: 0.6597 - accuracy: 0.6286\n",
      "Epoch 62/300\n",
      "157/157 [==============================] - 0s 750us/step - loss: 0.6597 - accuracy: 0.6286\n",
      "Epoch 63/300\n",
      "157/157 [==============================] - 0s 845us/step - loss: 0.6597 - accuracy: 0.6286\n",
      "Epoch 64/300\n",
      "157/157 [==============================] - 0s 934us/step - loss: 0.6597 - accuracy: 0.6286\n",
      "Epoch 65/300\n",
      "157/157 [==============================] - 0s 915us/step - loss: 0.6597 - accuracy: 0.6286\n",
      "Epoch 66/300\n",
      "157/157 [==============================] - 0s 724us/step - loss: 0.6598 - accuracy: 0.6286\n",
      "Epoch 67/300\n",
      "157/157 [==============================] - 0s 911us/step - loss: 0.6597 - accuracy: 0.6286\n",
      "Epoch 68/300\n",
      "157/157 [==============================] - 0s 870us/step - loss: 0.6597 - accuracy: 0.6286\n",
      "Epoch 69/300\n",
      "157/157 [==============================] - 0s 718us/step - loss: 0.6597 - accuracy: 0.6286\n",
      "Epoch 70/300\n",
      "157/157 [==============================] - 0s 642us/step - loss: 0.6597 - accuracy: 0.6286\n",
      "Epoch 71/300\n",
      "157/157 [==============================] - 0s 709us/step - loss: 0.6597 - accuracy: 0.6286\n",
      "Epoch 72/300\n",
      "157/157 [==============================] - 0s 966us/step - loss: 0.6597 - accuracy: 0.6286\n",
      "Epoch 73/300\n",
      "157/157 [==============================] - 0s 865us/step - loss: 0.6597 - accuracy: 0.6286\n",
      "Epoch 74/300\n",
      "157/157 [==============================] - 0s 775us/step - loss: 0.6597 - accuracy: 0.6286\n",
      "Epoch 75/300\n",
      "157/157 [==============================] - 0s 921us/step - loss: 0.6597 - accuracy: 0.6286\n",
      "Epoch 76/300\n",
      "157/157 [==============================] - 0s 835us/step - loss: 0.6597 - accuracy: 0.6286\n",
      "Epoch 77/300\n",
      "157/157 [==============================] - 0s 864us/step - loss: 0.6597 - accuracy: 0.6286\n",
      "Epoch 78/300\n",
      "157/157 [==============================] - 0s 781us/step - loss: 0.6597 - accuracy: 0.6286\n",
      "Epoch 79/300\n",
      "157/157 [==============================] - 0s 768us/step - loss: 0.6597 - accuracy: 0.6286\n"
     ]
    },
    {
     "name": "stdout",
     "output_type": "stream",
     "text": [
      "Epoch 80/300\n",
      "157/157 [==============================] - 0s 819us/step - loss: 0.6597 - accuracy: 0.6286\n",
      "Epoch 81/300\n",
      "157/157 [==============================] - 0s 1ms/step - loss: 0.6597 - accuracy: 0.6286\n",
      "Epoch 82/300\n",
      "157/157 [==============================] - 0s 747us/step - loss: 0.6597 - accuracy: 0.6286\n",
      "Epoch 83/300\n",
      "157/157 [==============================] - 0s 820us/step - loss: 0.6598 - accuracy: 0.6286\n",
      "Epoch 84/300\n",
      "157/157 [==============================] - 0s 966us/step - loss: 0.6597 - accuracy: 0.6286\n",
      "Epoch 85/300\n",
      "157/157 [==============================] - 0s 731us/step - loss: 0.6597 - accuracy: 0.6286\n",
      "Epoch 86/300\n",
      "157/157 [==============================] - 0s 1ms/step - loss: 0.6597 - accuracy: 0.6286\n",
      "Epoch 87/300\n",
      "157/157 [==============================] - 0s 813us/step - loss: 0.6597 - accuracy: 0.6286\n",
      "Epoch 88/300\n",
      "157/157 [==============================] - 0s 781us/step - loss: 0.6597 - accuracy: 0.6286\n",
      "Epoch 89/300\n",
      "157/157 [==============================] - 0s 718us/step - loss: 0.6597 - accuracy: 0.6286\n",
      "Epoch 90/300\n",
      "157/157 [==============================] - 0s 626us/step - loss: 0.6597 - accuracy: 0.6286\n",
      "Epoch 91/300\n",
      "157/157 [==============================] - 0s 623us/step - loss: 0.6597 - accuracy: 0.6286\n",
      "Epoch 92/300\n",
      "157/157 [==============================] - 0s 578us/step - loss: 0.6597 - accuracy: 0.6286\n",
      "Epoch 93/300\n",
      "157/157 [==============================] - 0s 603us/step - loss: 0.6597 - accuracy: 0.6286\n",
      "Epoch 94/300\n",
      "157/157 [==============================] - 0s 726us/step - loss: 0.6597 - accuracy: 0.6286\n",
      "Epoch 95/300\n",
      "157/157 [==============================] - 0s 803us/step - loss: 0.6597 - accuracy: 0.6286\n",
      "Epoch 96/300\n",
      "157/157 [==============================] - 0s 845us/step - loss: 0.6597 - accuracy: 0.6286\n",
      "Epoch 97/300\n",
      "157/157 [==============================] - 0s 1ms/step - loss: 0.6597 - accuracy: 0.6286\n",
      "Epoch 98/300\n",
      "157/157 [==============================] - 0s 843us/step - loss: 0.6597 - accuracy: 0.6286\n",
      "Epoch 99/300\n",
      "157/157 [==============================] - 0s 775us/step - loss: 0.6597 - accuracy: 0.6286\n",
      "Epoch 100/300\n",
      "157/157 [==============================] - 0s 751us/step - loss: 0.6597 - accuracy: 0.6286\n",
      "Epoch 101/300\n",
      "157/157 [==============================] - 0s 769us/step - loss: 0.6597 - accuracy: 0.6286\n",
      "Epoch 102/300\n",
      "157/157 [==============================] - 0s 718us/step - loss: 0.6597 - accuracy: 0.6286\n",
      "Epoch 103/300\n",
      "157/157 [==============================] - ETA: 0s - loss: 0.6598 - accuracy: 0.62 - 0s 755us/step - loss: 0.6597 - accuracy: 0.6286\n",
      "Epoch 104/300\n",
      "157/157 [==============================] - 0s 819us/step - loss: 0.6597 - accuracy: 0.6286\n",
      "Epoch 105/300\n",
      "157/157 [==============================] - 0s 851us/step - loss: 0.6597 - accuracy: 0.6286\n",
      "Epoch 106/300\n",
      "157/157 [==============================] - 0s 775us/step - loss: 0.6597 - accuracy: 0.6286\n",
      "Epoch 107/300\n",
      "157/157 [==============================] - 0s 737us/step - loss: 0.6597 - accuracy: 0.6286\n",
      "Epoch 108/300\n",
      "157/157 [==============================] - 0s 796us/step - loss: 0.6597 - accuracy: 0.62860s - loss: 0.6624 - accuracy: 0.\n",
      "Epoch 109/300\n",
      "157/157 [==============================] - 0s 757us/step - loss: 0.6597 - accuracy: 0.6286\n",
      "Epoch 110/300\n",
      "157/157 [==============================] - 0s 699us/step - loss: 0.6597 - accuracy: 0.6286\n",
      "Epoch 111/300\n",
      "157/157 [==============================] - 0s 750us/step - loss: 0.6597 - accuracy: 0.6286\n",
      "Epoch 112/300\n",
      "157/157 [==============================] - 0s 756us/step - loss: 0.6597 - accuracy: 0.6286\n",
      "Epoch 113/300\n",
      "157/157 [==============================] - 0s 832us/step - loss: 0.6597 - accuracy: 0.6286\n",
      "Epoch 114/300\n",
      "157/157 [==============================] - 0s 790us/step - loss: 0.6597 - accuracy: 0.6286\n",
      "Epoch 115/300\n",
      "157/157 [==============================] - 0s 953us/step - loss: 0.6597 - accuracy: 0.6286\n",
      "Epoch 116/300\n",
      "157/157 [==============================] - 0s 1ms/step - loss: 0.6597 - accuracy: 0.6286\n",
      "Epoch 117/300\n",
      "157/157 [==============================] - 0s 788us/step - loss: 0.6597 - accuracy: 0.6286\n",
      "Epoch 118/300\n",
      "157/157 [==============================] - 0s 788us/step - loss: 0.6597 - accuracy: 0.62860s - loss: 0.6559 - accuracy: 0.\n",
      "Epoch 119/300\n",
      "157/157 [==============================] - 0s 757us/step - loss: 0.6597 - accuracy: 0.6286\n",
      "Epoch 120/300\n",
      "157/157 [==============================] - 0s 788us/step - loss: 0.6597 - accuracy: 0.6286\n",
      "Epoch 121/300\n",
      "157/157 [==============================] - 0s 800us/step - loss: 0.6597 - accuracy: 0.6286\n",
      "Epoch 122/300\n",
      "157/157 [==============================] - 0s 778us/step - loss: 0.6597 - accuracy: 0.6286\n",
      "Epoch 123/300\n",
      "157/157 [==============================] - 0s 826us/step - loss: 0.6597 - accuracy: 0.6286\n",
      "Epoch 124/300\n",
      "157/157 [==============================] - 0s 883us/step - loss: 0.6597 - accuracy: 0.62860s - loss: 0.6584 - accuracy: 0.63\n",
      "Epoch 125/300\n",
      "157/157 [==============================] - 0s 776us/step - loss: 0.6597 - accuracy: 0.6286\n",
      "Epoch 126/300\n",
      "157/157 [==============================] - 0s 837us/step - loss: 0.6597 - accuracy: 0.6286\n",
      "Epoch 127/300\n",
      "157/157 [==============================] - 0s 813us/step - loss: 0.6597 - accuracy: 0.6286\n",
      "Epoch 128/300\n",
      "157/157 [==============================] - 0s 591us/step - loss: 0.6597 - accuracy: 0.6286\n",
      "Epoch 129/300\n",
      "157/157 [==============================] - 0s 591us/step - loss: 0.6597 - accuracy: 0.6286\n",
      "Epoch 130/300\n",
      "157/157 [==============================] - 0s 642us/step - loss: 0.6597 - accuracy: 0.6286\n",
      "Epoch 131/300\n",
      "157/157 [==============================] - 0s 699us/step - loss: 0.6597 - accuracy: 0.6286\n",
      "Epoch 132/300\n",
      "157/157 [==============================] - 0s 788us/step - loss: 0.6597 - accuracy: 0.6286\n",
      "Epoch 133/300\n",
      "157/157 [==============================] - 0s 775us/step - loss: 0.6598 - accuracy: 0.6286\n",
      "Epoch 134/300\n",
      "157/157 [==============================] - 0s 800us/step - loss: 0.6597 - accuracy: 0.6286\n",
      "Epoch 135/300\n",
      "157/157 [==============================] - 0s 737us/step - loss: 0.6597 - accuracy: 0.6286\n",
      "Epoch 136/300\n",
      "157/157 [==============================] - 0s 750us/step - loss: 0.6597 - accuracy: 0.6286\n",
      "Epoch 137/300\n",
      "157/157 [==============================] - 0s 756us/step - loss: 0.6597 - accuracy: 0.6286\n",
      "Epoch 138/300\n",
      "157/157 [==============================] - 0s 845us/step - loss: 0.6597 - accuracy: 0.6286\n",
      "Epoch 139/300\n",
      "157/157 [==============================] - 0s 1ms/step - loss: 0.6597 - accuracy: 0.6286\n",
      "Epoch 140/300\n",
      "157/157 [==============================] - 0s 807us/step - loss: 0.6597 - accuracy: 0.6286\n",
      "Epoch 141/300\n",
      "157/157 [==============================] - 0s 782us/step - loss: 0.6597 - accuracy: 0.6286\n",
      "Epoch 142/300\n",
      "157/157 [==============================] - 0s 769us/step - loss: 0.6597 - accuracy: 0.6286\n",
      "Epoch 143/300\n",
      "157/157 [==============================] - 0s 783us/step - loss: 0.6598 - accuracy: 0.6286\n",
      "Epoch 144/300\n",
      "157/157 [==============================] - 0s 749us/step - loss: 0.6597 - accuracy: 0.6286\n",
      "Epoch 145/300\n",
      "157/157 [==============================] - 0s 756us/step - loss: 0.6597 - accuracy: 0.6286\n",
      "Epoch 146/300\n",
      "157/157 [==============================] - 0s 750us/step - loss: 0.6597 - accuracy: 0.6286\n",
      "Epoch 147/300\n",
      "157/157 [==============================] - 0s 737us/step - loss: 0.6597 - accuracy: 0.6286\n",
      "Epoch 148/300\n",
      "157/157 [==============================] - 0s 661us/step - loss: 0.6597 - accuracy: 0.6286\n",
      "Epoch 149/300\n",
      "157/157 [==============================] - 0s 676us/step - loss: 0.6598 - accuracy: 0.6286\n",
      "Epoch 150/300\n",
      "157/157 [==============================] - 0s 877us/step - loss: 0.6597 - accuracy: 0.6286\n",
      "Epoch 151/300\n",
      "157/157 [==============================] - 0s 800us/step - loss: 0.6597 - accuracy: 0.6286\n",
      "Epoch 152/300\n",
      "157/157 [==============================] - 0s 732us/step - loss: 0.6597 - accuracy: 0.6286\n",
      "Epoch 153/300\n",
      "157/157 [==============================] - 0s 743us/step - loss: 0.6597 - accuracy: 0.6286\n",
      "Epoch 154/300\n",
      "157/157 [==============================] - 0s 743us/step - loss: 0.6597 - accuracy: 0.6286\n",
      "Epoch 155/300\n",
      "157/157 [==============================] - 0s 739us/step - loss: 0.6597 - accuracy: 0.6286\n",
      "Epoch 156/300\n",
      "157/157 [==============================] - 0s 740us/step - loss: 0.6597 - accuracy: 0.6286\n"
     ]
    },
    {
     "name": "stdout",
     "output_type": "stream",
     "text": [
      "Epoch 157/300\n",
      "157/157 [==============================] - 0s 743us/step - loss: 0.6597 - accuracy: 0.6286\n",
      "Epoch 158/300\n",
      "157/157 [==============================] - 0s 716us/step - loss: 0.6597 - accuracy: 0.6286\n",
      "Epoch 159/300\n",
      "157/157 [==============================] - 0s 744us/step - loss: 0.6597 - accuracy: 0.6286\n",
      "Epoch 160/300\n",
      "157/157 [==============================] - 0s 775us/step - loss: 0.6597 - accuracy: 0.6286\n",
      "Epoch 161/300\n",
      "157/157 [==============================] - 0s 1ms/step - loss: 0.6597 - accuracy: 0.6286\n",
      "Epoch 162/300\n",
      "157/157 [==============================] - 0s 811us/step - loss: 0.6597 - accuracy: 0.6286\n",
      "Epoch 163/300\n",
      "157/157 [==============================] - 0s 750us/step - loss: 0.6597 - accuracy: 0.6286\n",
      "Epoch 164/300\n",
      "157/157 [==============================] - 0s 753us/step - loss: 0.6597 - accuracy: 0.6286\n",
      "Epoch 165/300\n",
      "157/157 [==============================] - 0s 864us/step - loss: 0.6597 - accuracy: 0.6286\n",
      "Epoch 166/300\n",
      "157/157 [==============================] - 0s 787us/step - loss: 0.6597 - accuracy: 0.6286\n",
      "Epoch 167/300\n",
      "157/157 [==============================] - 0s 921us/step - loss: 0.6597 - accuracy: 0.6286\n",
      "Epoch 168/300\n",
      "157/157 [==============================] - 0s 889us/step - loss: 0.6598 - accuracy: 0.6286\n",
      "Epoch 169/300\n",
      "157/157 [==============================] - 0s 915us/step - loss: 0.6597 - accuracy: 0.6286\n",
      "Epoch 170/300\n",
      "157/157 [==============================] - 0s 718us/step - loss: 0.6597 - accuracy: 0.6286\n",
      "Epoch 171/300\n",
      "157/157 [==============================] - 0s 927us/step - loss: 0.6597 - accuracy: 0.6286\n",
      "Epoch 172/300\n",
      "157/157 [==============================] - 0s 889us/step - loss: 0.6597 - accuracy: 0.6286\n",
      "Epoch 173/300\n",
      "157/157 [==============================] - 0s 934us/step - loss: 0.6597 - accuracy: 0.6286\n",
      "Epoch 174/300\n",
      "157/157 [==============================] - 0s 953us/step - loss: 0.6598 - accuracy: 0.6286\n",
      "Epoch 175/300\n",
      "157/157 [==============================] - 0s 889us/step - loss: 0.6598 - accuracy: 0.6286\n",
      "Epoch 176/300\n",
      "157/157 [==============================] - 0s 927us/step - loss: 0.6597 - accuracy: 0.6286\n",
      "Epoch 177/300\n",
      "157/157 [==============================] - 0s 858us/step - loss: 0.6597 - accuracy: 0.6286\n",
      "Epoch 178/300\n",
      "157/157 [==============================] - 0s 714us/step - loss: 0.6597 - accuracy: 0.6286\n",
      "Epoch 179/300\n",
      "157/157 [==============================] - 0s 743us/step - loss: 0.6598 - accuracy: 0.6286\n",
      "Epoch 180/300\n",
      "157/157 [==============================] - 0s 727us/step - loss: 0.6597 - accuracy: 0.6286\n",
      "Epoch 181/300\n",
      "157/157 [==============================] - 0s 737us/step - loss: 0.6597 - accuracy: 0.6286\n",
      "Epoch 182/300\n",
      "157/157 [==============================] - 0s 705us/step - loss: 0.6597 - accuracy: 0.6286\n",
      "Epoch 183/300\n",
      "157/157 [==============================] - 0s 667us/step - loss: 0.6597 - accuracy: 0.6286\n",
      "Epoch 184/300\n",
      "157/157 [==============================] - 0s 813us/step - loss: 0.6597 - accuracy: 0.6286\n",
      "Epoch 185/300\n",
      "157/157 [==============================] - 0s 743us/step - loss: 0.6597 - accuracy: 0.6286\n",
      "Epoch 186/300\n",
      "157/157 [==============================] - ETA: 0s - loss: 0.6609 - accuracy: 0.62 - 0s 737us/step - loss: 0.6597 - accuracy: 0.6286\n",
      "Epoch 187/300\n",
      "157/157 [==============================] - 0s 743us/step - loss: 0.6597 - accuracy: 0.6286\n",
      "Epoch 188/300\n",
      "157/157 [==============================] - 0s 724us/step - loss: 0.6597 - accuracy: 0.6286\n",
      "Epoch 189/300\n",
      "157/157 [==============================] - 0s 699us/step - loss: 0.6597 - accuracy: 0.6286\n",
      "Epoch 190/300\n",
      "157/157 [==============================] - 0s 705us/step - loss: 0.6597 - accuracy: 0.6286\n",
      "Epoch 191/300\n",
      "157/157 [==============================] - 0s 717us/step - loss: 0.6597 - accuracy: 0.6286\n",
      "Epoch 192/300\n",
      "157/157 [==============================] - 0s 739us/step - loss: 0.6597 - accuracy: 0.6286\n",
      "Epoch 193/300\n",
      "157/157 [==============================] - 0s 717us/step - loss: 0.6597 - accuracy: 0.6286\n",
      "Epoch 194/300\n",
      "157/157 [==============================] - 0s 774us/step - loss: 0.6597 - accuracy: 0.6286\n",
      "Epoch 195/300\n",
      "157/157 [==============================] - 0s 959us/step - loss: 0.6597 - accuracy: 0.6286\n",
      "Epoch 196/300\n",
      "157/157 [==============================] - 0s 896us/step - loss: 0.6597 - accuracy: 0.6286\n",
      "Epoch 197/300\n",
      "157/157 [==============================] - 0s 940us/step - loss: 0.6597 - accuracy: 0.6286\n",
      "Epoch 198/300\n",
      "157/157 [==============================] - 0s 858us/step - loss: 0.6597 - accuracy: 0.6286\n",
      "Epoch 199/300\n",
      "157/157 [==============================] - 0s 959us/step - loss: 0.6598 - accuracy: 0.6286\n",
      "Epoch 200/300\n",
      "157/157 [==============================] - 0s 927us/step - loss: 0.6598 - accuracy: 0.6286\n",
      "Epoch 201/300\n",
      "157/157 [==============================] - 0s 921us/step - loss: 0.6597 - accuracy: 0.6286\n",
      "Epoch 202/300\n",
      "157/157 [==============================] - 0s 883us/step - loss: 0.6597 - accuracy: 0.6286\n",
      "Epoch 203/300\n",
      "157/157 [==============================] - 0s 1ms/step - loss: 0.6597 - accuracy: 0.6286\n",
      "Epoch 204/300\n",
      "157/157 [==============================] - 0s 870us/step - loss: 0.6597 - accuracy: 0.6286\n",
      "Epoch 205/300\n",
      "157/157 [==============================] - 0s 877us/step - loss: 0.6597 - accuracy: 0.6286\n",
      "Epoch 206/300\n",
      "157/157 [==============================] - 0s 934us/step - loss: 0.6597 - accuracy: 0.6286\n",
      "Epoch 207/300\n",
      "157/157 [==============================] - 0s 700us/step - loss: 0.6597 - accuracy: 0.6286\n",
      "Epoch 208/300\n",
      "157/157 [==============================] - 0s 762us/step - loss: 0.6597 - accuracy: 0.6286\n",
      "Epoch 209/300\n",
      "157/157 [==============================] - 0s 721us/step - loss: 0.6597 - accuracy: 0.6286\n",
      "Epoch 210/300\n",
      "157/157 [==============================] - 0s 743us/step - loss: 0.6597 - accuracy: 0.6286\n",
      "Epoch 211/300\n",
      "157/157 [==============================] - 0s 750us/step - loss: 0.6597 - accuracy: 0.6286\n",
      "Epoch 212/300\n",
      "157/157 [==============================] - 0s 740us/step - loss: 0.6597 - accuracy: 0.6286\n",
      "Epoch 213/300\n",
      "157/157 [==============================] - 0s 743us/step - loss: 0.6598 - accuracy: 0.6286\n",
      "Epoch 214/300\n",
      "157/157 [==============================] - 0s 711us/step - loss: 0.6597 - accuracy: 0.6286\n",
      "Epoch 215/300\n",
      "157/157 [==============================] - 0s 691us/step - loss: 0.6597 - accuracy: 0.6286\n",
      "Epoch 216/300\n",
      "157/157 [==============================] - 0s 685us/step - loss: 0.6597 - accuracy: 0.6286\n",
      "Epoch 217/300\n",
      "157/157 [==============================] - 0s 835us/step - loss: 0.6598 - accuracy: 0.6286\n",
      "Epoch 218/300\n",
      "157/157 [==============================] - 0s 762us/step - loss: 0.6597 - accuracy: 0.6286\n",
      "Epoch 219/300\n",
      "157/157 [==============================] - 0s 781us/step - loss: 0.6597 - accuracy: 0.6286\n",
      "Epoch 220/300\n",
      "157/157 [==============================] - 0s 647us/step - loss: 0.6598 - accuracy: 0.6286\n",
      "Epoch 221/300\n",
      "157/157 [==============================] - 0s 839us/step - loss: 0.6597 - accuracy: 0.6286\n",
      "Epoch 222/300\n",
      "157/157 [==============================] - 0s 793us/step - loss: 0.6597 - accuracy: 0.6286\n",
      "Epoch 223/300\n",
      "157/157 [==============================] - 0s 787us/step - loss: 0.6597 - accuracy: 0.6286\n",
      "Epoch 224/300\n",
      "157/157 [==============================] - 0s 921us/step - loss: 0.6597 - accuracy: 0.6286\n",
      "Epoch 225/300\n",
      "157/157 [==============================] - 0s 997us/step - loss: 0.6597 - accuracy: 0.6286\n",
      "Epoch 226/300\n",
      "157/157 [==============================] - 0s 991us/step - loss: 0.6597 - accuracy: 0.6286\n",
      "Epoch 227/300\n",
      "157/157 [==============================] - 0s 889us/step - loss: 0.6598 - accuracy: 0.6286\n",
      "Epoch 228/300\n",
      "157/157 [==============================] - 0s 738us/step - loss: 0.6597 - accuracy: 0.6286\n",
      "Epoch 229/300\n",
      "157/157 [==============================] - 0s 722us/step - loss: 0.6598 - accuracy: 0.6286\n",
      "Epoch 230/300\n",
      "157/157 [==============================] - 0s 864us/step - loss: 0.6598 - accuracy: 0.6286\n",
      "Epoch 231/300\n",
      "157/157 [==============================] - 0s 820us/step - loss: 0.6597 - accuracy: 0.6286\n",
      "Epoch 232/300\n",
      "157/157 [==============================] - 0s 730us/step - loss: 0.6597 - accuracy: 0.6286\n",
      "Epoch 233/300\n",
      "157/157 [==============================] - 0s 765us/step - loss: 0.6597 - accuracy: 0.6286\n",
      "Epoch 234/300\n",
      "157/157 [==============================] - 0s 788us/step - loss: 0.6597 - accuracy: 0.6286\n",
      "Epoch 235/300\n",
      "157/157 [==============================] - 0s 829us/step - loss: 0.6597 - accuracy: 0.6286\n",
      "Epoch 236/300\n",
      "157/157 [==============================] - 0s 762us/step - loss: 0.6597 - accuracy: 0.6286\n",
      "Epoch 237/300\n",
      "157/157 [==============================] - ETA: 0s - loss: 0.6595 - accuracy: 0.62 - 0s 731us/step - loss: 0.6597 - accuracy: 0.6286\n",
      "Epoch 238/300\n",
      "157/157 [==============================] - 0s 839us/step - loss: 0.6597 - accuracy: 0.6286\n",
      "Epoch 239/300\n",
      "157/157 [==============================] - 0s 741us/step - loss: 0.6597 - accuracy: 0.6286\n",
      "Epoch 240/300\n",
      "157/157 [==============================] - 0s 781us/step - loss: 0.6597 - accuracy: 0.6286\n",
      "Epoch 241/300\n",
      "157/157 [==============================] - 0s 845us/step - loss: 0.6597 - accuracy: 0.62860s - loss: 0.6611 - accuracy: 0.\n",
      "Epoch 242/300\n",
      "157/157 [==============================] - 0s 827us/step - loss: 0.6598 - accuracy: 0.6286\n",
      "Epoch 243/300\n",
      "157/157 [==============================] - 0s 794us/step - loss: 0.6597 - accuracy: 0.6286\n",
      "Epoch 244/300\n",
      "157/157 [==============================] - 0s 762us/step - loss: 0.6597 - accuracy: 0.6286\n",
      "Epoch 245/300\n",
      "157/157 [==============================] - 0s 768us/step - loss: 0.6597 - accuracy: 0.6286\n",
      "Epoch 246/300\n",
      "157/157 [==============================] - 0s 781us/step - loss: 0.6598 - accuracy: 0.6286\n",
      "Epoch 247/300\n",
      "157/157 [==============================] - 0s 785us/step - loss: 0.6597 - accuracy: 0.6286\n",
      "Epoch 248/300\n",
      "157/157 [==============================] - 0s 786us/step - loss: 0.6597 - accuracy: 0.6286\n",
      "Epoch 249/300\n",
      "157/157 [==============================] - 0s 888us/step - loss: 0.6597 - accuracy: 0.6286\n",
      "Epoch 250/300\n",
      "157/157 [==============================] - 0s 731us/step - loss: 0.6597 - accuracy: 0.6286\n",
      "Epoch 251/300\n",
      "157/157 [==============================] - 0s 737us/step - loss: 0.6597 - accuracy: 0.6286\n",
      "Epoch 252/300\n",
      "157/157 [==============================] - 0s 775us/step - loss: 0.6597 - accuracy: 0.6286\n",
      "Epoch 253/300\n",
      "157/157 [==============================] - 0s 782us/step - loss: 0.6597 - accuracy: 0.6286\n",
      "Epoch 254/300\n",
      "157/157 [==============================] - 0s 767us/step - loss: 0.6597 - accuracy: 0.6286\n",
      "Epoch 255/300\n",
      "157/157 [==============================] - 0s 817us/step - loss: 0.6597 - accuracy: 0.6286\n",
      "Epoch 256/300\n",
      "157/157 [==============================] - 0s 794us/step - loss: 0.6597 - accuracy: 0.6286\n",
      "Epoch 257/300\n",
      "157/157 [==============================] - 0s 809us/step - loss: 0.6597 - accuracy: 0.6286\n",
      "Epoch 258/300\n",
      "157/157 [==============================] - ETA: 0s - loss: 0.6605 - accuracy: 0.62 - 0s 784us/step - loss: 0.6597 - accuracy: 0.6286\n",
      "Epoch 259/300\n",
      "157/157 [==============================] - 0s 759us/step - loss: 0.6597 - accuracy: 0.6286\n",
      "Epoch 260/300\n",
      "157/157 [==============================] - ETA: 0s - loss: 0.6598 - accuracy: 0.62 - 0s 807us/step - loss: 0.6597 - accuracy: 0.6286\n",
      "Epoch 261/300\n",
      "157/157 [==============================] - 0s 788us/step - loss: 0.6597 - accuracy: 0.6286\n",
      "Epoch 262/300\n",
      "157/157 [==============================] - 0s 786us/step - loss: 0.6597 - accuracy: 0.6286\n",
      "Epoch 263/300\n",
      "157/157 [==============================] - 0s 742us/step - loss: 0.6597 - accuracy: 0.6286\n",
      "Epoch 264/300\n",
      "157/157 [==============================] - 0s 801us/step - loss: 0.6597 - accuracy: 0.6286\n",
      "Epoch 265/300\n",
      "157/157 [==============================] - 0s 857us/step - loss: 0.6597 - accuracy: 0.6286\n",
      "Epoch 266/300\n",
      "157/157 [==============================] - 0s 788us/step - loss: 0.6597 - accuracy: 0.6286\n",
      "Epoch 267/300\n",
      "157/157 [==============================] - 0s 769us/step - loss: 0.6597 - accuracy: 0.6286\n",
      "Epoch 268/300\n",
      "157/157 [==============================] - 0s 839us/step - loss: 0.6597 - accuracy: 0.6286\n",
      "Epoch 269/300\n",
      "157/157 [==============================] - 0s 858us/step - loss: 0.6598 - accuracy: 0.6286\n",
      "Epoch 270/300\n",
      "157/157 [==============================] - 0s 801us/step - loss: 0.6597 - accuracy: 0.62860s - loss: 0.6605 - accuracy: 0.62\n",
      "Epoch 271/300\n",
      "157/157 [==============================] - 0s 838us/step - loss: 0.6597 - accuracy: 0.6286\n",
      "Epoch 272/300\n",
      "157/157 [==============================] - 0s 864us/step - loss: 0.6597 - accuracy: 0.6286\n",
      "Epoch 273/300\n",
      "157/157 [==============================] - 0s 902us/step - loss: 0.6597 - accuracy: 0.62860s - loss: 0.6596 - accuracy: 0.\n",
      "Epoch 274/300\n",
      "157/157 [==============================] - 0s 800us/step - loss: 0.6597 - accuracy: 0.6286\n",
      "Epoch 275/300\n",
      "157/157 [==============================] - 0s 788us/step - loss: 0.6597 - accuracy: 0.6286\n",
      "Epoch 276/300\n",
      "157/157 [==============================] - 0s 811us/step - loss: 0.6597 - accuracy: 0.6286\n",
      "Epoch 277/300\n",
      "157/157 [==============================] - 0s 763us/step - loss: 0.6597 - accuracy: 0.6286\n",
      "Epoch 278/300\n",
      "157/157 [==============================] - 0s 762us/step - loss: 0.6597 - accuracy: 0.6286\n",
      "Epoch 279/300\n",
      "157/157 [==============================] - 0s 1ms/step - loss: 0.6597 - accuracy: 0.6286: 0s - loss: 0.6634 - accuracy: \n",
      "Epoch 280/300\n",
      "157/157 [==============================] - 0s 1ms/step - loss: 0.6597 - accuracy: 0.6286\n",
      "Epoch 281/300\n",
      "157/157 [==============================] - 0s 1ms/step - loss: 0.6598 - accuracy: 0.6286\n",
      "Epoch 282/300\n",
      "157/157 [==============================] - 0s 1ms/step - loss: 0.6597 - accuracy: 0.6286\n",
      "Epoch 283/300\n",
      "157/157 [==============================] - 0s 991us/step - loss: 0.6597 - accuracy: 0.6286\n",
      "Epoch 284/300\n",
      "157/157 [==============================] - 0s 711us/step - loss: 0.6597 - accuracy: 0.6286\n",
      "Epoch 285/300\n",
      "157/157 [==============================] - 0s 724us/step - loss: 0.6597 - accuracy: 0.6286\n",
      "Epoch 286/300\n",
      "157/157 [==============================] - 0s 839us/step - loss: 0.6597 - accuracy: 0.6286\n",
      "Epoch 287/300\n",
      "157/157 [==============================] - 0s 788us/step - loss: 0.6597 - accuracy: 0.6286\n",
      "Epoch 288/300\n",
      "157/157 [==============================] - 0s 768us/step - loss: 0.6597 - accuracy: 0.6286\n",
      "Epoch 289/300\n",
      "157/157 [==============================] - 0s 756us/step - loss: 0.6597 - accuracy: 0.6286\n",
      "Epoch 290/300\n",
      "157/157 [==============================] - 0s 762us/step - loss: 0.6597 - accuracy: 0.6286\n",
      "Epoch 291/300\n",
      "157/157 [==============================] - 0s 762us/step - loss: 0.6597 - accuracy: 0.6286\n",
      "Epoch 292/300\n",
      "157/157 [==============================] - 0s 3ms/step - loss: 0.6597 - accuracy: 0.6286\n",
      "Epoch 293/300\n",
      "157/157 [==============================] - 0s 832us/step - loss: 0.6597 - accuracy: 0.6286\n",
      "Epoch 294/300\n",
      "157/157 [==============================] - 0s 802us/step - loss: 0.6598 - accuracy: 0.6286\n",
      "Epoch 295/300\n",
      "157/157 [==============================] - 0s 800us/step - loss: 0.6597 - accuracy: 0.6286\n",
      "Epoch 296/300\n",
      "157/157 [==============================] - 0s 834us/step - loss: 0.6597 - accuracy: 0.6286\n",
      "Epoch 297/300\n",
      "157/157 [==============================] - 0s 813us/step - loss: 0.6597 - accuracy: 0.6286\n",
      "Epoch 298/300\n",
      "157/157 [==============================] - 0s 747us/step - loss: 0.6597 - accuracy: 0.6286\n",
      "Epoch 299/300\n",
      "157/157 [==============================] - 0s 915us/step - loss: 0.6597 - accuracy: 0.6286\n",
      "Epoch 300/300\n",
      "157/157 [==============================] - 0s 807us/step - loss: 0.6597 - accuracy: 0.6286\n"
     ]
    },
    {
     "data": {
      "text/plain": [
       "<tensorflow.python.keras.callbacks.History at 0x2c05ff16940>"
      ]
     },
     "execution_count": 74,
     "metadata": {},
     "output_type": "execute_result"
    }
   ],
   "source": [
    "model.fit(x_train,y_train,epochs=300)"
   ]
  },
  {
   "cell_type": "code",
   "execution_count": 75,
   "metadata": {},
   "outputs": [
    {
     "name": "stdout",
     "output_type": "stream",
     "text": [
      "157/157 [==============================] - 0s 591us/step - loss: 0.6642 - accuracy: 0.6200\n"
     ]
    },
    {
     "data": {
      "text/plain": [
       "[0.6642176508903503, 0.6200000047683716]"
      ]
     },
     "execution_count": 75,
     "metadata": {},
     "output_type": "execute_result"
    }
   ],
   "source": [
    "model.evaluate(x_test,y_test)"
   ]
  },
  {
   "cell_type": "code",
   "execution_count": 76,
   "metadata": {},
   "outputs": [],
   "source": [
    "pred=model.predict(x_test)"
   ]
  },
  {
   "cell_type": "code",
   "execution_count": 77,
   "metadata": {},
   "outputs": [
    {
     "data": {
      "text/plain": [
       "array([[0.6294128],\n",
       "       [0.6294128],\n",
       "       [0.6294128],\n",
       "       ...,\n",
       "       [0.6294128],\n",
       "       [0.6294128],\n",
       "       [0.6294128]], dtype=float32)"
      ]
     },
     "execution_count": 77,
     "metadata": {},
     "output_type": "execute_result"
    }
   ],
   "source": [
    "pred"
   ]
  },
  {
   "cell_type": "code",
   "execution_count": 78,
   "metadata": {},
   "outputs": [],
   "source": [
    "pred_new=[]\n",
    "for m in pred:\n",
    "    if m>0.6:\n",
    "        pred_new.append(1)\n",
    "    else:\n",
    "        pred_new.append(0)"
   ]
  },
  {
   "cell_type": "code",
   "execution_count": 52,
   "metadata": {},
   "outputs": [],
   "source": [
    "import matplotlib.pyplot as plt\n",
    "import seaborn as sns"
   ]
  },
  {
   "cell_type": "code",
   "execution_count": 53,
   "metadata": {},
   "outputs": [
    {
     "data": {
      "text/plain": [
       "<AxesSubplot:title={'center':'ANN'}>"
      ]
     },
     "execution_count": 53,
     "metadata": {},
     "output_type": "execute_result"
    },
    {
     "data": {
      "image/png": "[encoded data removed]",
      "text/plain": [
       "<Figure size 432x288 with 1 Axes>"
      ]
     },
     "metadata": {
      "needs_background": "light"
     },
     "output_type": "display_data"
    }
   ],
   "source": [
    "lr_cm=confusion_matrix(y_test,pred_new)\n",
    "plt.title(\"ANN\")\n",
    "sns.heatmap(lr_cm,annot=True,cmap=\"Blues\",fmt=\"d\",cbar=False)"
   ]
  },
  {
   "cell_type": "code",
   "execution_count": 54,
   "metadata": {},
   "outputs": [
    {
     "data": {
      "text/plain": [
       "0.91"
      ]
     },
     "execution_count": 54,
     "metadata": {},
     "output_type": "execute_result"
    }
   ],
   "source": [
    "#accuracy\n",
    "round((1684+2850)/(1684+154+312+2850),2)"
   ]
  },
  {
   "cell_type": "code",
   "execution_count": 55,
   "metadata": {},
   "outputs": [],
   "source": [
    "# Feed Forwarding also called MLP\n"
   ]
  },
  {
   "cell_type": "code",
   "execution_count": 56,
   "metadata": {},
   "outputs": [],
   "source": [
    "from sklearn.neural_network import MLPClassifier"
   ]
  },
  {
   "cell_type": "code",
   "execution_count": 57,
   "metadata": {},
   "outputs": [],
   "source": [
    "mlp=MLPClassifier(hidden_layer_sizes=(3,2),max_iter=500,activation='relu')\n"
   ]
  },
  {
   "cell_type": "code",
   "execution_count": 58,
   "metadata": {},
   "outputs": [
    {
     "data": {
      "text/plain": [
       "MLPClassifier(activation='relu', alpha=0.0001, batch_size='auto', beta_1=0.9,\n",
       "              beta_2=0.999, early_stopping=False, epsilon=1e-08,\n",
       "              hidden_layer_sizes=(3, 2), learning_rate='constant',\n",
       "              learning_rate_init=0.001, max_iter=500, momentum=0.9,\n",
       "              n_iter_no_change=10, nesterovs_momentum=True, power_t=0.5,\n",
       "              random_state=None, shuffle=True, solver='adam', tol=0.0001,\n",
       "              validation_fraction=0.1, verbose=False, warm_start=False)"
      ]
     },
     "execution_count": 58,
     "metadata": {},
     "output_type": "execute_result"
    }
   ],
   "source": [
    "mlp.fit(x_train,y_train)"
   ]
  },
  {
   "cell_type": "code",
   "execution_count": 59,
   "metadata": {},
   "outputs": [],
   "source": [
    "pred=mlp.predict(x_test)"
   ]
  },
  {
   "cell_type": "code",
   "execution_count": 60,
   "metadata": {},
   "outputs": [
    {
     "data": {
      "text/plain": [
       "array([1, 1, 1, ..., 1, 1, 1], dtype=int64)"
      ]
     },
     "execution_count": 60,
     "metadata": {},
     "output_type": "execute_result"
    }
   ],
   "source": [
    "pred"
   ]
  },
  {
   "cell_type": "code",
   "execution_count": 61,
   "metadata": {},
   "outputs": [
    {
     "data": {
      "text/plain": [
       "<AxesSubplot:title={'center':'Feed Forwarding'}>"
      ]
     },
     "execution_count": 61,
     "metadata": {},
     "output_type": "execute_result"
    },
    {
     "data": {
      "image/png": "[encoded data removed]",
      "text/plain": [
       "<Figure size 432x288 with 1 Axes>"
      ]
     },
     "metadata": {
      "needs_background": "light"
     },
     "output_type": "display_data"
    }
   ],
   "source": [
    "lr_cm=confusion_matrix(y_test,pred)\n",
    "plt.title(\"Feed Forwarding\")\n",
    "sns.heatmap(lr_cm,annot=True,cmap=\"Blues\",fmt=\"d\",cbar=False)"
   ]
  },
  {
   "cell_type": "code",
   "execution_count": 62,
   "metadata": {},
   "outputs": [
    {
     "data": {
      "text/plain": [
       "0.6324"
      ]
     },
     "execution_count": 62,
     "metadata": {},
     "output_type": "execute_result"
    }
   ],
   "source": [
    "3162/(3162+1838)"
   ]
  },
  {
   "cell_type": "code",
   "execution_count": 63,
   "metadata": {},
   "outputs": [],
   "source": [
    "score_mlp = round(accuracy_score(pred,y_test)*100,2)"
   ]
  },
  {
   "cell_type": "code",
   "execution_count": 64,
   "metadata": {},
   "outputs": [
    {
     "data": {
      "text/plain": [
       "62.42"
      ]
     },
     "execution_count": 64,
     "metadata": {},
     "output_type": "execute_result"
    }
   ],
   "source": [
    "score_mlp"
   ]
  },
  {
   "cell_type": "code",
   "execution_count": 65,
   "metadata": {},
   "outputs": [],
   "source": [
    "#very low accuracy"
   ]
  },
  {
   "cell_type": "code",
   "execution_count": null,
   "metadata": {},
   "outputs": [],
   "source": [
    "import matplotlib.pyplot as plt\n",
    " \n",
    "values = [95.12, 99.48, 30.68,0.0]\n",
    "colors = ['yellowgreen', 'gold', 'lightskyblue', 'lightcoral']\n",
    "labels = ['Naive Bayes', 'KNN', 'Decision Tree', 'Random Forest']\n",
    "explode = (0.1, 0, 0, 0)\n",
    "plt.pie(values, colors=colors, labels= values,explode=explode,counterclock=False, shadow=True)\n",
    "plt.title('Precision chart')\n",
    "plt.legend(labels,loc=3)\n",
    "plt.show()"
   ]
  }
 ],
 "metadata": {
  "kernelspec": {
   "display_name": "Python 3",
   "language": "python",
   "name": "python3"
  },
  "language_info": {
   "codemirror_mode": {
    "name": "ipython",
    "version": 3
   },
   "file_extension": ".py",
   "mimetype": "text/x-python",
   "name": "python",
   "nbconvert_exporter": "python",
   "pygments_lexer": "ipython3",
   "version": "3.7.6"
  }
 },
 "nbformat": 4,
 "nbformat_minor": 5
}
