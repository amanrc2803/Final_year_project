{
 "cells": [
  {
   "cell_type": "code",
   "execution_count": 1,
   "id": "3002b527",
   "metadata": {},
   "outputs": [],
   "source": [
    "import random\n",
    "plantwidth = []\n",
    "plantheight= []\n",
    "phvalue=[]\n",
    "temp=[]\n",
    "humid=[]#in percentange\n",
    "moist=[]#in percentange\n",
    "growth=[]#growth\n",
    "for i in range(1,10001):\n",
    "    n = random.randint(14,40)\n",
    "    m = random.randint(15,120)\n",
    "    l=random.randint(3,10)\n",
    "    j=random.randint(17,40)\n",
    "    k=random.randint(40,110)\n",
    "    z=random.randint(10,45)\n",
    "    plantwidth.append(n)\n",
    "    plantheight.append(m)\n",
    "    phvalue.append(l)\n",
    "    temp.append(j)\n",
    "    humid.append(k)\n",
    "    moist.append(z)"
   ]
  },
  {
   "cell_type": "code",
   "execution_count": 2,
   "id": "7516ae1e",
   "metadata": {},
   "outputs": [],
   "source": [
    "import pandas as pd\n",
    "df = pd.DataFrame(list(zip(plantheight, plantwidth,phvalue,temp,humid,moist)),columns =['plantheight','plantwidth','phvalue','temp','humid','moist'])\n"
   ]
  },
  {
   "cell_type": "code",
   "execution_count": 3,
   "id": "5abce339",
   "metadata": {},
   "outputs": [
    {
     "data": {
      "text/html": [
       "<div>\n",
       "<style scoped>\n",
       "    .dataframe tbody tr th:only-of-type {\n",
       "        vertical-align: middle;\n",
       "    }\n",
       "\n",
       "    .dataframe tbody tr th {\n",
       "        vertical-align: top;\n",
       "    }\n",
       "\n",
       "    .dataframe thead th {\n",
       "        text-align: right;\n",
       "    }\n",
       "</style>\n",
       "<table border=\"1\" class=\"dataframe\">\n",
       "  <thead>\n",
       "    <tr style=\"text-align: right;\">\n",
       "      <th></th>\n",
       "      <th>plantheight</th>\n",
       "      <th>plantwidth</th>\n",
       "      <th>phvalue</th>\n",
       "      <th>temp</th>\n",
       "      <th>humid</th>\n",
       "      <th>moist</th>\n",
       "    </tr>\n",
       "  </thead>\n",
       "  <tbody>\n",
       "    <tr>\n",
       "      <th>0</th>\n",
       "      <td>105</td>\n",
       "      <td>40</td>\n",
       "      <td>4</td>\n",
       "      <td>28</td>\n",
       "      <td>96</td>\n",
       "      <td>39</td>\n",
       "    </tr>\n",
       "    <tr>\n",
       "      <th>1</th>\n",
       "      <td>94</td>\n",
       "      <td>15</td>\n",
       "      <td>8</td>\n",
       "      <td>39</td>\n",
       "      <td>59</td>\n",
       "      <td>24</td>\n",
       "    </tr>\n",
       "    <tr>\n",
       "      <th>2</th>\n",
       "      <td>117</td>\n",
       "      <td>25</td>\n",
       "      <td>5</td>\n",
       "      <td>28</td>\n",
       "      <td>44</td>\n",
       "      <td>10</td>\n",
       "    </tr>\n",
       "    <tr>\n",
       "      <th>3</th>\n",
       "      <td>50</td>\n",
       "      <td>38</td>\n",
       "      <td>6</td>\n",
       "      <td>39</td>\n",
       "      <td>51</td>\n",
       "      <td>44</td>\n",
       "    </tr>\n",
       "    <tr>\n",
       "      <th>4</th>\n",
       "      <td>19</td>\n",
       "      <td>20</td>\n",
       "      <td>6</td>\n",
       "      <td>21</td>\n",
       "      <td>73</td>\n",
       "      <td>37</td>\n",
       "    </tr>\n",
       "    <tr>\n",
       "      <th>...</th>\n",
       "      <td>...</td>\n",
       "      <td>...</td>\n",
       "      <td>...</td>\n",
       "      <td>...</td>\n",
       "      <td>...</td>\n",
       "      <td>...</td>\n",
       "    </tr>\n",
       "    <tr>\n",
       "      <th>9995</th>\n",
       "      <td>86</td>\n",
       "      <td>19</td>\n",
       "      <td>5</td>\n",
       "      <td>20</td>\n",
       "      <td>89</td>\n",
       "      <td>44</td>\n",
       "    </tr>\n",
       "    <tr>\n",
       "      <th>9996</th>\n",
       "      <td>77</td>\n",
       "      <td>30</td>\n",
       "      <td>6</td>\n",
       "      <td>18</td>\n",
       "      <td>98</td>\n",
       "      <td>19</td>\n",
       "    </tr>\n",
       "    <tr>\n",
       "      <th>9997</th>\n",
       "      <td>97</td>\n",
       "      <td>37</td>\n",
       "      <td>4</td>\n",
       "      <td>21</td>\n",
       "      <td>85</td>\n",
       "      <td>21</td>\n",
       "    </tr>\n",
       "    <tr>\n",
       "      <th>9998</th>\n",
       "      <td>63</td>\n",
       "      <td>23</td>\n",
       "      <td>8</td>\n",
       "      <td>25</td>\n",
       "      <td>88</td>\n",
       "      <td>11</td>\n",
       "    </tr>\n",
       "    <tr>\n",
       "      <th>9999</th>\n",
       "      <td>93</td>\n",
       "      <td>24</td>\n",
       "      <td>6</td>\n",
       "      <td>20</td>\n",
       "      <td>77</td>\n",
       "      <td>13</td>\n",
       "    </tr>\n",
       "  </tbody>\n",
       "</table>\n",
       "<p>10000 rows × 6 columns</p>\n",
       "</div>"
      ],
      "text/plain": [
       "      plantheight  plantwidth  phvalue  temp  humid  moist\n",
       "0             105          40        4    28     96     39\n",
       "1              94          15        8    39     59     24\n",
       "2             117          25        5    28     44     10\n",
       "3              50          38        6    39     51     44\n",
       "4              19          20        6    21     73     37\n",
       "...           ...         ...      ...   ...    ...    ...\n",
       "9995           86          19        5    20     89     44\n",
       "9996           77          30        6    18     98     19\n",
       "9997           97          37        4    21     85     21\n",
       "9998           63          23        8    25     88     11\n",
       "9999           93          24        6    20     77     13\n",
       "\n",
       "[10000 rows x 6 columns]"
      ]
     },
     "execution_count": 3,
     "metadata": {},
     "output_type": "execute_result"
    }
   ],
   "source": [
    "df"
   ]
  },
  {
   "cell_type": "code",
   "execution_count": 4,
   "id": "f2e7a379",
   "metadata": {},
   "outputs": [],
   "source": [
    "t=df['temp'].to_list()"
   ]
  },
  {
   "cell_type": "code",
   "execution_count": 5,
   "id": "77ce4e64",
   "metadata": {},
   "outputs": [],
   "source": [
    "light=[]\n",
    "for i in t:\n",
    "    ans=i*289\n",
    "    light.append(ans)"
   ]
  },
  {
   "cell_type": "code",
   "execution_count": 6,
   "id": "71d32ec5",
   "metadata": {},
   "outputs": [],
   "source": [
    "df1=pd.DataFrame(light,columns=['light'])"
   ]
  },
  {
   "cell_type": "code",
   "execution_count": 7,
   "id": "cc2bdc07",
   "metadata": {},
   "outputs": [],
   "source": [
    "df['growth'] = df['plantheight']/df['plantwidth']"
   ]
  },
  {
   "cell_type": "code",
   "execution_count": 8,
   "id": "56b99a94",
   "metadata": {},
   "outputs": [
    {
     "data": {
      "text/html": [
       "<div>\n",
       "<style scoped>\n",
       "    .dataframe tbody tr th:only-of-type {\n",
       "        vertical-align: middle;\n",
       "    }\n",
       "\n",
       "    .dataframe tbody tr th {\n",
       "        vertical-align: top;\n",
       "    }\n",
       "\n",
       "    .dataframe thead th {\n",
       "        text-align: right;\n",
       "    }\n",
       "</style>\n",
       "<table border=\"1\" class=\"dataframe\">\n",
       "  <thead>\n",
       "    <tr style=\"text-align: right;\">\n",
       "      <th></th>\n",
       "      <th>plantheight</th>\n",
       "      <th>plantwidth</th>\n",
       "      <th>phvalue</th>\n",
       "      <th>temp</th>\n",
       "      <th>humid</th>\n",
       "      <th>moist</th>\n",
       "      <th>growth</th>\n",
       "    </tr>\n",
       "  </thead>\n",
       "  <tbody>\n",
       "    <tr>\n",
       "      <th>0</th>\n",
       "      <td>105</td>\n",
       "      <td>40</td>\n",
       "      <td>4</td>\n",
       "      <td>28</td>\n",
       "      <td>96</td>\n",
       "      <td>39</td>\n",
       "      <td>2.625000</td>\n",
       "    </tr>\n",
       "    <tr>\n",
       "      <th>1</th>\n",
       "      <td>94</td>\n",
       "      <td>15</td>\n",
       "      <td>8</td>\n",
       "      <td>39</td>\n",
       "      <td>59</td>\n",
       "      <td>24</td>\n",
       "      <td>6.266667</td>\n",
       "    </tr>\n",
       "    <tr>\n",
       "      <th>2</th>\n",
       "      <td>117</td>\n",
       "      <td>25</td>\n",
       "      <td>5</td>\n",
       "      <td>28</td>\n",
       "      <td>44</td>\n",
       "      <td>10</td>\n",
       "      <td>4.680000</td>\n",
       "    </tr>\n",
       "    <tr>\n",
       "      <th>3</th>\n",
       "      <td>50</td>\n",
       "      <td>38</td>\n",
       "      <td>6</td>\n",
       "      <td>39</td>\n",
       "      <td>51</td>\n",
       "      <td>44</td>\n",
       "      <td>1.315789</td>\n",
       "    </tr>\n",
       "    <tr>\n",
       "      <th>4</th>\n",
       "      <td>19</td>\n",
       "      <td>20</td>\n",
       "      <td>6</td>\n",
       "      <td>21</td>\n",
       "      <td>73</td>\n",
       "      <td>37</td>\n",
       "      <td>0.950000</td>\n",
       "    </tr>\n",
       "    <tr>\n",
       "      <th>...</th>\n",
       "      <td>...</td>\n",
       "      <td>...</td>\n",
       "      <td>...</td>\n",
       "      <td>...</td>\n",
       "      <td>...</td>\n",
       "      <td>...</td>\n",
       "      <td>...</td>\n",
       "    </tr>\n",
       "    <tr>\n",
       "      <th>9995</th>\n",
       "      <td>86</td>\n",
       "      <td>19</td>\n",
       "      <td>5</td>\n",
       "      <td>20</td>\n",
       "      <td>89</td>\n",
       "      <td>44</td>\n",
       "      <td>4.526316</td>\n",
       "    </tr>\n",
       "    <tr>\n",
       "      <th>9996</th>\n",
       "      <td>77</td>\n",
       "      <td>30</td>\n",
       "      <td>6</td>\n",
       "      <td>18</td>\n",
       "      <td>98</td>\n",
       "      <td>19</td>\n",
       "      <td>2.566667</td>\n",
       "    </tr>\n",
       "    <tr>\n",
       "      <th>9997</th>\n",
       "      <td>97</td>\n",
       "      <td>37</td>\n",
       "      <td>4</td>\n",
       "      <td>21</td>\n",
       "      <td>85</td>\n",
       "      <td>21</td>\n",
       "      <td>2.621622</td>\n",
       "    </tr>\n",
       "    <tr>\n",
       "      <th>9998</th>\n",
       "      <td>63</td>\n",
       "      <td>23</td>\n",
       "      <td>8</td>\n",
       "      <td>25</td>\n",
       "      <td>88</td>\n",
       "      <td>11</td>\n",
       "      <td>2.739130</td>\n",
       "    </tr>\n",
       "    <tr>\n",
       "      <th>9999</th>\n",
       "      <td>93</td>\n",
       "      <td>24</td>\n",
       "      <td>6</td>\n",
       "      <td>20</td>\n",
       "      <td>77</td>\n",
       "      <td>13</td>\n",
       "      <td>3.875000</td>\n",
       "    </tr>\n",
       "  </tbody>\n",
       "</table>\n",
       "<p>10000 rows × 7 columns</p>\n",
       "</div>"
      ],
      "text/plain": [
       "      plantheight  plantwidth  phvalue  temp  humid  moist    growth\n",
       "0             105          40        4    28     96     39  2.625000\n",
       "1              94          15        8    39     59     24  6.266667\n",
       "2             117          25        5    28     44     10  4.680000\n",
       "3              50          38        6    39     51     44  1.315789\n",
       "4              19          20        6    21     73     37  0.950000\n",
       "...           ...         ...      ...   ...    ...    ...       ...\n",
       "9995           86          19        5    20     89     44  4.526316\n",
       "9996           77          30        6    18     98     19  2.566667\n",
       "9997           97          37        4    21     85     21  2.621622\n",
       "9998           63          23        8    25     88     11  2.739130\n",
       "9999           93          24        6    20     77     13  3.875000\n",
       "\n",
       "[10000 rows x 7 columns]"
      ]
     },
     "execution_count": 8,
     "metadata": {},
     "output_type": "execute_result"
    }
   ],
   "source": [
    "df"
   ]
  },
  {
   "cell_type": "code",
   "execution_count": 9,
   "id": "ede7b95c",
   "metadata": {},
   "outputs": [],
   "source": [
    "df.loc[df['growth'] >2, 'possible'] = '1'\n",
    "df.loc[df['growth'] <=2, 'possible'] = '0'"
   ]
  },
  {
   "cell_type": "code",
   "execution_count": 10,
   "id": "07860250",
   "metadata": {},
   "outputs": [
    {
     "data": {
      "text/html": [
       "<div>\n",
       "<style scoped>\n",
       "    .dataframe tbody tr th:only-of-type {\n",
       "        vertical-align: middle;\n",
       "    }\n",
       "\n",
       "    .dataframe tbody tr th {\n",
       "        vertical-align: top;\n",
       "    }\n",
       "\n",
       "    .dataframe thead th {\n",
       "        text-align: right;\n",
       "    }\n",
       "</style>\n",
       "<table border=\"1\" class=\"dataframe\">\n",
       "  <thead>\n",
       "    <tr style=\"text-align: right;\">\n",
       "      <th></th>\n",
       "      <th>plantheight</th>\n",
       "      <th>plantwidth</th>\n",
       "      <th>phvalue</th>\n",
       "      <th>temp</th>\n",
       "      <th>humid</th>\n",
       "      <th>moist</th>\n",
       "      <th>growth</th>\n",
       "      <th>possible</th>\n",
       "    </tr>\n",
       "  </thead>\n",
       "  <tbody>\n",
       "    <tr>\n",
       "      <th>0</th>\n",
       "      <td>105</td>\n",
       "      <td>40</td>\n",
       "      <td>4</td>\n",
       "      <td>28</td>\n",
       "      <td>96</td>\n",
       "      <td>39</td>\n",
       "      <td>2.625000</td>\n",
       "      <td>1</td>\n",
       "    </tr>\n",
       "    <tr>\n",
       "      <th>1</th>\n",
       "      <td>94</td>\n",
       "      <td>15</td>\n",
       "      <td>8</td>\n",
       "      <td>39</td>\n",
       "      <td>59</td>\n",
       "      <td>24</td>\n",
       "      <td>6.266667</td>\n",
       "      <td>1</td>\n",
       "    </tr>\n",
       "    <tr>\n",
       "      <th>2</th>\n",
       "      <td>117</td>\n",
       "      <td>25</td>\n",
       "      <td>5</td>\n",
       "      <td>28</td>\n",
       "      <td>44</td>\n",
       "      <td>10</td>\n",
       "      <td>4.680000</td>\n",
       "      <td>1</td>\n",
       "    </tr>\n",
       "    <tr>\n",
       "      <th>3</th>\n",
       "      <td>50</td>\n",
       "      <td>38</td>\n",
       "      <td>6</td>\n",
       "      <td>39</td>\n",
       "      <td>51</td>\n",
       "      <td>44</td>\n",
       "      <td>1.315789</td>\n",
       "      <td>0</td>\n",
       "    </tr>\n",
       "    <tr>\n",
       "      <th>4</th>\n",
       "      <td>19</td>\n",
       "      <td>20</td>\n",
       "      <td>6</td>\n",
       "      <td>21</td>\n",
       "      <td>73</td>\n",
       "      <td>37</td>\n",
       "      <td>0.950000</td>\n",
       "      <td>0</td>\n",
       "    </tr>\n",
       "    <tr>\n",
       "      <th>...</th>\n",
       "      <td>...</td>\n",
       "      <td>...</td>\n",
       "      <td>...</td>\n",
       "      <td>...</td>\n",
       "      <td>...</td>\n",
       "      <td>...</td>\n",
       "      <td>...</td>\n",
       "      <td>...</td>\n",
       "    </tr>\n",
       "    <tr>\n",
       "      <th>9995</th>\n",
       "      <td>86</td>\n",
       "      <td>19</td>\n",
       "      <td>5</td>\n",
       "      <td>20</td>\n",
       "      <td>89</td>\n",
       "      <td>44</td>\n",
       "      <td>4.526316</td>\n",
       "      <td>1</td>\n",
       "    </tr>\n",
       "    <tr>\n",
       "      <th>9996</th>\n",
       "      <td>77</td>\n",
       "      <td>30</td>\n",
       "      <td>6</td>\n",
       "      <td>18</td>\n",
       "      <td>98</td>\n",
       "      <td>19</td>\n",
       "      <td>2.566667</td>\n",
       "      <td>1</td>\n",
       "    </tr>\n",
       "    <tr>\n",
       "      <th>9997</th>\n",
       "      <td>97</td>\n",
       "      <td>37</td>\n",
       "      <td>4</td>\n",
       "      <td>21</td>\n",
       "      <td>85</td>\n",
       "      <td>21</td>\n",
       "      <td>2.621622</td>\n",
       "      <td>1</td>\n",
       "    </tr>\n",
       "    <tr>\n",
       "      <th>9998</th>\n",
       "      <td>63</td>\n",
       "      <td>23</td>\n",
       "      <td>8</td>\n",
       "      <td>25</td>\n",
       "      <td>88</td>\n",
       "      <td>11</td>\n",
       "      <td>2.739130</td>\n",
       "      <td>1</td>\n",
       "    </tr>\n",
       "    <tr>\n",
       "      <th>9999</th>\n",
       "      <td>93</td>\n",
       "      <td>24</td>\n",
       "      <td>6</td>\n",
       "      <td>20</td>\n",
       "      <td>77</td>\n",
       "      <td>13</td>\n",
       "      <td>3.875000</td>\n",
       "      <td>1</td>\n",
       "    </tr>\n",
       "  </tbody>\n",
       "</table>\n",
       "<p>10000 rows × 8 columns</p>\n",
       "</div>"
      ],
      "text/plain": [
       "      plantheight  plantwidth  phvalue  temp  humid  moist    growth possible\n",
       "0             105          40        4    28     96     39  2.625000        1\n",
       "1              94          15        8    39     59     24  6.266667        1\n",
       "2             117          25        5    28     44     10  4.680000        1\n",
       "3              50          38        6    39     51     44  1.315789        0\n",
       "4              19          20        6    21     73     37  0.950000        0\n",
       "...           ...         ...      ...   ...    ...    ...       ...      ...\n",
       "9995           86          19        5    20     89     44  4.526316        1\n",
       "9996           77          30        6    18     98     19  2.566667        1\n",
       "9997           97          37        4    21     85     21  2.621622        1\n",
       "9998           63          23        8    25     88     11  2.739130        1\n",
       "9999           93          24        6    20     77     13  3.875000        1\n",
       "\n",
       "[10000 rows x 8 columns]"
      ]
     },
     "execution_count": 10,
     "metadata": {},
     "output_type": "execute_result"
    }
   ],
   "source": [
    "df"
   ]
  },
  {
   "cell_type": "code",
   "execution_count": 11,
   "id": "912775e9",
   "metadata": {},
   "outputs": [
    {
     "data": {
      "text/plain": [
       "1    6237\n",
       "0    3763\n",
       "Name: possible, dtype: int64"
      ]
     },
     "execution_count": 11,
     "metadata": {},
     "output_type": "execute_result"
    }
   ],
   "source": [
    "df['possible'].value_counts()"
   ]
  },
  {
   "cell_type": "code",
   "execution_count": 12,
   "id": "a04c59cd",
   "metadata": {},
   "outputs": [],
   "source": [
    "frames=[df,df1]\n",
    "dff=pd.concat(frames,axis=1)"
   ]
  },
  {
   "cell_type": "code",
   "execution_count": 13,
   "id": "06709f28",
   "metadata": {},
   "outputs": [],
   "source": [
    "dff.to_csv('data.csv')"
   ]
  },
  {
   "cell_type": "code",
   "execution_count": 14,
   "id": "fc96ef59",
   "metadata": {},
   "outputs": [],
   "source": [
    "dff_new=pd.read_csv(\"data.csv\")"
   ]
  },
  {
   "cell_type": "code",
   "execution_count": 15,
   "id": "1fc2d6d6",
   "metadata": {},
   "outputs": [
    {
     "data": {
      "text/html": [
       "<div>\n",
       "<style scoped>\n",
       "    .dataframe tbody tr th:only-of-type {\n",
       "        vertical-align: middle;\n",
       "    }\n",
       "\n",
       "    .dataframe tbody tr th {\n",
       "        vertical-align: top;\n",
       "    }\n",
       "\n",
       "    .dataframe thead th {\n",
       "        text-align: right;\n",
       "    }\n",
       "</style>\n",
       "<table border=\"1\" class=\"dataframe\">\n",
       "  <thead>\n",
       "    <tr style=\"text-align: right;\">\n",
       "      <th></th>\n",
       "      <th>Unnamed: 0</th>\n",
       "      <th>plantheight</th>\n",
       "      <th>plantwidth</th>\n",
       "      <th>phvalue</th>\n",
       "      <th>temp</th>\n",
       "      <th>humid</th>\n",
       "      <th>moist</th>\n",
       "      <th>growth</th>\n",
       "      <th>possible</th>\n",
       "      <th>light</th>\n",
       "    </tr>\n",
       "  </thead>\n",
       "  <tbody>\n",
       "    <tr>\n",
       "      <th>0</th>\n",
       "      <td>0</td>\n",
       "      <td>105</td>\n",
       "      <td>40</td>\n",
       "      <td>4</td>\n",
       "      <td>28</td>\n",
       "      <td>96</td>\n",
       "      <td>39</td>\n",
       "      <td>2.625000</td>\n",
       "      <td>1</td>\n",
       "      <td>8092</td>\n",
       "    </tr>\n",
       "    <tr>\n",
       "      <th>1</th>\n",
       "      <td>1</td>\n",
       "      <td>94</td>\n",
       "      <td>15</td>\n",
       "      <td>8</td>\n",
       "      <td>39</td>\n",
       "      <td>59</td>\n",
       "      <td>24</td>\n",
       "      <td>6.266667</td>\n",
       "      <td>1</td>\n",
       "      <td>11271</td>\n",
       "    </tr>\n",
       "    <tr>\n",
       "      <th>2</th>\n",
       "      <td>2</td>\n",
       "      <td>117</td>\n",
       "      <td>25</td>\n",
       "      <td>5</td>\n",
       "      <td>28</td>\n",
       "      <td>44</td>\n",
       "      <td>10</td>\n",
       "      <td>4.680000</td>\n",
       "      <td>1</td>\n",
       "      <td>8092</td>\n",
       "    </tr>\n",
       "    <tr>\n",
       "      <th>3</th>\n",
       "      <td>3</td>\n",
       "      <td>50</td>\n",
       "      <td>38</td>\n",
       "      <td>6</td>\n",
       "      <td>39</td>\n",
       "      <td>51</td>\n",
       "      <td>44</td>\n",
       "      <td>1.315789</td>\n",
       "      <td>0</td>\n",
       "      <td>11271</td>\n",
       "    </tr>\n",
       "    <tr>\n",
       "      <th>4</th>\n",
       "      <td>4</td>\n",
       "      <td>19</td>\n",
       "      <td>20</td>\n",
       "      <td>6</td>\n",
       "      <td>21</td>\n",
       "      <td>73</td>\n",
       "      <td>37</td>\n",
       "      <td>0.950000</td>\n",
       "      <td>0</td>\n",
       "      <td>6069</td>\n",
       "    </tr>\n",
       "    <tr>\n",
       "      <th>...</th>\n",
       "      <td>...</td>\n",
       "      <td>...</td>\n",
       "      <td>...</td>\n",
       "      <td>...</td>\n",
       "      <td>...</td>\n",
       "      <td>...</td>\n",
       "      <td>...</td>\n",
       "      <td>...</td>\n",
       "      <td>...</td>\n",
       "      <td>...</td>\n",
       "    </tr>\n",
       "    <tr>\n",
       "      <th>9995</th>\n",
       "      <td>9995</td>\n",
       "      <td>86</td>\n",
       "      <td>19</td>\n",
       "      <td>5</td>\n",
       "      <td>20</td>\n",
       "      <td>89</td>\n",
       "      <td>44</td>\n",
       "      <td>4.526316</td>\n",
       "      <td>1</td>\n",
       "      <td>5780</td>\n",
       "    </tr>\n",
       "    <tr>\n",
       "      <th>9996</th>\n",
       "      <td>9996</td>\n",
       "      <td>77</td>\n",
       "      <td>30</td>\n",
       "      <td>6</td>\n",
       "      <td>18</td>\n",
       "      <td>98</td>\n",
       "      <td>19</td>\n",
       "      <td>2.566667</td>\n",
       "      <td>1</td>\n",
       "      <td>5202</td>\n",
       "    </tr>\n",
       "    <tr>\n",
       "      <th>9997</th>\n",
       "      <td>9997</td>\n",
       "      <td>97</td>\n",
       "      <td>37</td>\n",
       "      <td>4</td>\n",
       "      <td>21</td>\n",
       "      <td>85</td>\n",
       "      <td>21</td>\n",
       "      <td>2.621622</td>\n",
       "      <td>1</td>\n",
       "      <td>6069</td>\n",
       "    </tr>\n",
       "    <tr>\n",
       "      <th>9998</th>\n",
       "      <td>9998</td>\n",
       "      <td>63</td>\n",
       "      <td>23</td>\n",
       "      <td>8</td>\n",
       "      <td>25</td>\n",
       "      <td>88</td>\n",
       "      <td>11</td>\n",
       "      <td>2.739130</td>\n",
       "      <td>1</td>\n",
       "      <td>7225</td>\n",
       "    </tr>\n",
       "    <tr>\n",
       "      <th>9999</th>\n",
       "      <td>9999</td>\n",
       "      <td>93</td>\n",
       "      <td>24</td>\n",
       "      <td>6</td>\n",
       "      <td>20</td>\n",
       "      <td>77</td>\n",
       "      <td>13</td>\n",
       "      <td>3.875000</td>\n",
       "      <td>1</td>\n",
       "      <td>5780</td>\n",
       "    </tr>\n",
       "  </tbody>\n",
       "</table>\n",
       "<p>10000 rows × 10 columns</p>\n",
       "</div>"
      ],
      "text/plain": [
       "      Unnamed: 0  plantheight  plantwidth  phvalue  temp  humid  moist  \\\n",
       "0              0          105          40        4    28     96     39   \n",
       "1              1           94          15        8    39     59     24   \n",
       "2              2          117          25        5    28     44     10   \n",
       "3              3           50          38        6    39     51     44   \n",
       "4              4           19          20        6    21     73     37   \n",
       "...          ...          ...         ...      ...   ...    ...    ...   \n",
       "9995        9995           86          19        5    20     89     44   \n",
       "9996        9996           77          30        6    18     98     19   \n",
       "9997        9997           97          37        4    21     85     21   \n",
       "9998        9998           63          23        8    25     88     11   \n",
       "9999        9999           93          24        6    20     77     13   \n",
       "\n",
       "        growth  possible  light  \n",
       "0     2.625000         1   8092  \n",
       "1     6.266667         1  11271  \n",
       "2     4.680000         1   8092  \n",
       "3     1.315789         0  11271  \n",
       "4     0.950000         0   6069  \n",
       "...        ...       ...    ...  \n",
       "9995  4.526316         1   5780  \n",
       "9996  2.566667         1   5202  \n",
       "9997  2.621622         1   6069  \n",
       "9998  2.739130         1   7225  \n",
       "9999  3.875000         1   5780  \n",
       "\n",
       "[10000 rows x 10 columns]"
      ]
     },
     "execution_count": 15,
     "metadata": {},
     "output_type": "execute_result"
    }
   ],
   "source": [
    "dff_new"
   ]
  },
  {
   "cell_type": "code",
   "execution_count": 16,
   "id": "bae002f1",
   "metadata": {},
   "outputs": [],
   "source": [
    "x=dff_new.drop(['possible','plantheight','plantwidth','phvalue','Unnamed: 0'],axis=1)\n",
    "y=dff_new['possible']"
   ]
  },
  {
   "cell_type": "code",
   "execution_count": 17,
   "id": "fc10800f",
   "metadata": {},
   "outputs": [],
   "source": [
    "from sklearn.ensemble import AdaBoostClassifier\n",
    "from sklearn.tree import DecisionTreeClassifier\n",
    "\n",
    "import pandas as pd\n",
    "import numpy as np\n",
    "from sklearn.model_selection import train_test_split\n",
    "from sklearn.metrics import confusion_matrix\n",
    "import pickle\n",
    "from sklearn.preprocessing import LabelEncoder"
   ]
  },
  {
   "cell_type": "code",
   "execution_count": 18,
   "id": "0a548c37",
   "metadata": {},
   "outputs": [],
   "source": [
    "x_train,x_test , y_train, y_test = train_test_split(x, y,test_size=0.5)"
   ]
  },
  {
   "cell_type": "code",
   "execution_count": 19,
   "id": "542eb3be",
   "metadata": {},
   "outputs": [
    {
     "data": {
      "text/html": [
       "<div>\n",
       "<style scoped>\n",
       "    .dataframe tbody tr th:only-of-type {\n",
       "        vertical-align: middle;\n",
       "    }\n",
       "\n",
       "    .dataframe tbody tr th {\n",
       "        vertical-align: top;\n",
       "    }\n",
       "\n",
       "    .dataframe thead th {\n",
       "        text-align: right;\n",
       "    }\n",
       "</style>\n",
       "<table border=\"1\" class=\"dataframe\">\n",
       "  <thead>\n",
       "    <tr style=\"text-align: right;\">\n",
       "      <th></th>\n",
       "      <th>temp</th>\n",
       "      <th>humid</th>\n",
       "      <th>moist</th>\n",
       "      <th>growth</th>\n",
       "      <th>light</th>\n",
       "    </tr>\n",
       "  </thead>\n",
       "  <tbody>\n",
       "    <tr>\n",
       "      <th>872</th>\n",
       "      <td>20</td>\n",
       "      <td>47</td>\n",
       "      <td>10</td>\n",
       "      <td>3.840000</td>\n",
       "      <td>5780</td>\n",
       "    </tr>\n",
       "    <tr>\n",
       "      <th>7466</th>\n",
       "      <td>32</td>\n",
       "      <td>107</td>\n",
       "      <td>44</td>\n",
       "      <td>1.656250</td>\n",
       "      <td>9248</td>\n",
       "    </tr>\n",
       "    <tr>\n",
       "      <th>3495</th>\n",
       "      <td>23</td>\n",
       "      <td>84</td>\n",
       "      <td>24</td>\n",
       "      <td>2.771429</td>\n",
       "      <td>6647</td>\n",
       "    </tr>\n",
       "    <tr>\n",
       "      <th>9454</th>\n",
       "      <td>38</td>\n",
       "      <td>64</td>\n",
       "      <td>27</td>\n",
       "      <td>1.948718</td>\n",
       "      <td>10982</td>\n",
       "    </tr>\n",
       "    <tr>\n",
       "      <th>504</th>\n",
       "      <td>20</td>\n",
       "      <td>109</td>\n",
       "      <td>12</td>\n",
       "      <td>2.423077</td>\n",
       "      <td>5780</td>\n",
       "    </tr>\n",
       "    <tr>\n",
       "      <th>...</th>\n",
       "      <td>...</td>\n",
       "      <td>...</td>\n",
       "      <td>...</td>\n",
       "      <td>...</td>\n",
       "      <td>...</td>\n",
       "    </tr>\n",
       "    <tr>\n",
       "      <th>2229</th>\n",
       "      <td>22</td>\n",
       "      <td>110</td>\n",
       "      <td>34</td>\n",
       "      <td>3.000000</td>\n",
       "      <td>6358</td>\n",
       "    </tr>\n",
       "    <tr>\n",
       "      <th>7761</th>\n",
       "      <td>19</td>\n",
       "      <td>61</td>\n",
       "      <td>19</td>\n",
       "      <td>1.705882</td>\n",
       "      <td>5491</td>\n",
       "    </tr>\n",
       "    <tr>\n",
       "      <th>5067</th>\n",
       "      <td>27</td>\n",
       "      <td>53</td>\n",
       "      <td>18</td>\n",
       "      <td>2.969697</td>\n",
       "      <td>7803</td>\n",
       "    </tr>\n",
       "    <tr>\n",
       "      <th>5506</th>\n",
       "      <td>25</td>\n",
       "      <td>43</td>\n",
       "      <td>33</td>\n",
       "      <td>2.842105</td>\n",
       "      <td>7225</td>\n",
       "    </tr>\n",
       "    <tr>\n",
       "      <th>6442</th>\n",
       "      <td>30</td>\n",
       "      <td>101</td>\n",
       "      <td>36</td>\n",
       "      <td>2.774194</td>\n",
       "      <td>8670</td>\n",
       "    </tr>\n",
       "  </tbody>\n",
       "</table>\n",
       "<p>5000 rows × 5 columns</p>\n",
       "</div>"
      ],
      "text/plain": [
       "      temp  humid  moist    growth  light\n",
       "872     20     47     10  3.840000   5780\n",
       "7466    32    107     44  1.656250   9248\n",
       "3495    23     84     24  2.771429   6647\n",
       "9454    38     64     27  1.948718  10982\n",
       "504     20    109     12  2.423077   5780\n",
       "...    ...    ...    ...       ...    ...\n",
       "2229    22    110     34  3.000000   6358\n",
       "7761    19     61     19  1.705882   5491\n",
       "5067    27     53     18  2.969697   7803\n",
       "5506    25     43     33  2.842105   7225\n",
       "6442    30    101     36  2.774194   8670\n",
       "\n",
       "[5000 rows x 5 columns]"
      ]
     },
     "execution_count": 19,
     "metadata": {},
     "output_type": "execute_result"
    }
   ],
   "source": [
    "x_train"
   ]
  },
  {
   "cell_type": "code",
   "execution_count": 20,
   "id": "b5cb722f",
   "metadata": {},
   "outputs": [
    {
     "data": {
      "text/plain": [
       "872     1\n",
       "7466    0\n",
       "3495    1\n",
       "9454    0\n",
       "504     1\n",
       "       ..\n",
       "2229    1\n",
       "7761    0\n",
       "5067    1\n",
       "5506    1\n",
       "6442    1\n",
       "Name: possible, Length: 5000, dtype: int64"
      ]
     },
     "execution_count": 20,
     "metadata": {},
     "output_type": "execute_result"
    }
   ],
   "source": [
    "y_train"
   ]
  },
  {
   "cell_type": "code",
   "execution_count": 19,
   "id": "0ee875be",
   "metadata": {},
   "outputs": [
    {
     "data": {
      "text/plain": [
       "3847    0\n",
       "2236    1\n",
       "1689    1\n",
       "5331    1\n",
       "9608    1\n",
       "       ..\n",
       "9243    0\n",
       "6301    0\n",
       "3044    1\n",
       "6194    1\n",
       "3123    1\n",
       "Name: possible, Length: 5000, dtype: object"
      ]
     },
     "execution_count": 19,
     "metadata": {},
     "output_type": "execute_result"
    }
   ],
   "source": [
    "y_test"
   ]
  },
  {
   "cell_type": "code",
   "execution_count": 21,
   "id": "98b81070",
   "metadata": {},
   "outputs": [],
   "source": [
    "from sklearn import metrics\n",
    "from sklearn.tree import DecisionTreeClassifier\n",
    "from sklearn.model_selection import train_test_split\n",
    "from sklearn.metrics import roc_curve,roc_auc_score,f1_score\n",
    "from sklearn.ensemble import RandomForestClassifier\n",
    "from sklearn.metrics import confusion_matrix\n",
    "from sklearn.metrics import accuracy_score\n",
    "from sklearn.metrics import roc_curve\n",
    "from sklearn.metrics import f1_score\n",
    "from sklearn.metrics import precision_score,recall_score\n",
    "from sklearn.metrics import roc_auc_score,roc_curve"
   ]
  },
  {
   "cell_type": "markdown",
   "id": "1586ecb3",
   "metadata": {},
   "source": [
    "### Logistic Regression"
   ]
  },
  {
   "cell_type": "code",
   "execution_count": 22,
   "id": "1dd88f60",
   "metadata": {},
   "outputs": [
    {
     "name": "stderr",
     "output_type": "stream",
     "text": [
      "C:\\Users\\Aman avi\\.conda\\envs\\project\\lib\\site-packages\\sklearn\\linear_model\\_logistic.py:937: ConvergenceWarning: lbfgs failed to converge (status=1):\n",
      "STOP: TOTAL NO. of ITERATIONS REACHED LIMIT.\n",
      "\n",
      "Increase the number of iterations (max_iter) or scale the data as shown in:\n",
      "    https://scikit-learn.org/stable/modules/preprocessing.html.\n",
      "Please also refer to the documentation for alternative solver options:\n",
      "    https://scikit-learn.org/stable/modules/linear_model.html#logistic-regression\n",
      "  n_iter_i = _check_optimize_result(\n"
     ]
    }
   ],
   "source": [
    "from sklearn.linear_model import LogisticRegression\n",
    "\n",
    "lr = LogisticRegression()\n",
    "\n",
    "lr.fit(x_train,y_train)\n",
    "\n",
    "Y_pred_lr = lr.predict(x_test)\n"
   ]
  },
  {
   "cell_type": "code",
   "execution_count": 23,
   "id": "1948adee",
   "metadata": {},
   "outputs": [
    {
     "name": "stdout",
     "output_type": "stream",
     "text": [
      "The accuracy score achieved using Logistic Regression is: 99.9 %\n"
     ]
    }
   ],
   "source": [
    "score_lr = round(accuracy_score(Y_pred_lr,y_test)*100,2)\n",
    "\n",
    "print(\"The accuracy score achieved using Logistic Regression is: \"+str(score_lr)+\" %\")"
   ]
  },
  {
   "cell_type": "code",
   "execution_count": 24,
   "id": "3331e1e9",
   "metadata": {},
   "outputs": [],
   "source": [
    "import matplotlib.pyplot as plt\n",
    "import seaborn as sns"
   ]
  },
  {
   "cell_type": "code",
   "execution_count": 25,
   "id": "a6539ac3",
   "metadata": {},
   "outputs": [
    {
     "data": {
      "text/plain": [
       "<AxesSubplot:title={'center':'Logistic_Regression'}>"
      ]
     },
     "execution_count": 25,
     "metadata": {},
     "output_type": "execute_result"
    },
    {
     "data": {
      "image/png": "[encoded data removed]",
      "text/plain": [
       "<Figure size 432x288 with 1 Axes>"
      ]
     },
     "metadata": {
      "needs_background": "light"
     },
     "output_type": "display_data"
    }
   ],
   "source": [
    "lr_cm=confusion_matrix(y_test,Y_pred_lr)\n",
    "plt.title(\"Logistic_Regression\")\n",
    "sns.heatmap(lr_cm,annot=True,cmap=\"Blues\",fmt=\"d\",cbar=False)"
   ]
  },
  {
   "cell_type": "code",
   "execution_count": 26,
   "id": "e59b4b97",
   "metadata": {},
   "outputs": [],
   "source": [
    "import pickle\n",
    "with open('Logistic_regression.sav','wb') as f:\n",
    "    pickle.dump(lr,f)"
   ]
  },
  {
   "cell_type": "markdown",
   "id": "fc161fe7",
   "metadata": {},
   "source": [
    "# SVM Linear"
   ]
  },
  {
   "cell_type": "code",
   "execution_count": 27,
   "id": "61cd311e",
   "metadata": {},
   "outputs": [
    {
     "name": "stdout",
     "output_type": "stream",
     "text": [
      "The accuracy score achieved using Linear SVM is: 99.3 %\n"
     ]
    }
   ],
   "source": [
    "from sklearn import svm\n",
    "\n",
    "sv = svm.SVC(kernel='linear')\n",
    "\n",
    "sv.fit(x_train, y_train)\n",
    "\n",
    "Y_pred_svm = sv.predict(x_test)\n",
    "score_svm = round(accuracy_score(Y_pred_svm,y_test)*100,2)\n",
    "\n",
    "print(\"The accuracy score achieved using Linear SVM is: \"+str(score_svm)+\" %\")"
   ]
  },
  {
   "cell_type": "code",
   "execution_count": 28,
   "id": "ad54ed6e",
   "metadata": {},
   "outputs": [
    {
     "data": {
      "text/plain": [
       "<AxesSubplot:title={'center':'SVM'}>"
      ]
     },
     "execution_count": 28,
     "metadata": {},
     "output_type": "execute_result"
    },
    {
     "data": {
      "image/png": "[encoded data removed]",
      "text/plain": [
       "<Figure size 432x288 with 1 Axes>"
      ]
     },
     "metadata": {
      "needs_background": "light"
     },
     "output_type": "display_data"
    }
   ],
   "source": [
    "lr_cm=confusion_matrix(y_test,Y_pred_svm)\n",
    "plt.title(\"SVM\")\n",
    "sns.heatmap(lr_cm,annot=True,cmap=\"Blues\",fmt=\"d\",cbar=False)"
   ]
  },
  {
   "cell_type": "code",
   "execution_count": 29,
   "id": "ffe76d5a",
   "metadata": {},
   "outputs": [],
   "source": [
    "import pickle\n",
    "with open('SVM.sav','wb') as f:\n",
    "    pickle.dump(sv,f)"
   ]
  },
  {
   "cell_type": "markdown",
   "id": "4bd3644b",
   "metadata": {},
   "source": [
    "### Naive Bayes"
   ]
  },
  {
   "cell_type": "code",
   "execution_count": 30,
   "id": "02acb441",
   "metadata": {},
   "outputs": [],
   "source": [
    "from sklearn.naive_bayes import GaussianNB\n",
    "\n",
    "nb = GaussianNB()\n",
    "\n",
    "nb.fit(x_train,y_train)\n",
    "nb.score(x_test,y_test)\n",
    "Y_pred_nb = nb.predict(x_test)"
   ]
  },
  {
   "cell_type": "code",
   "execution_count": 31,
   "id": "e98770c4",
   "metadata": {},
   "outputs": [
    {
     "name": "stdout",
     "output_type": "stream",
     "text": [
      "The accuracy score achieved using Naive Bayes is: 99.16 %\n"
     ]
    }
   ],
   "source": [
    "score_nb = round(accuracy_score(Y_pred_nb,y_test)*100,2)\n",
    "\n",
    "print(\"The accuracy score achieved using Naive Bayes is: \"+str(score_nb)+\" %\")"
   ]
  },
  {
   "cell_type": "code",
   "execution_count": 32,
   "id": "74bcc3af",
   "metadata": {},
   "outputs": [
    {
     "data": {
      "text/plain": [
       "<AxesSubplot:title={'center':'Naive Bayes'}>"
      ]
     },
     "execution_count": 32,
     "metadata": {},
     "output_type": "execute_result"
    },
    {
     "data": {
      "image/png": "[encoded data removed]",
      "text/plain": [
       "<Figure size 432x288 with 1 Axes>"
      ]
     },
     "metadata": {
      "needs_background": "light"
     },
     "output_type": "display_data"
    }
   ],
   "source": [
    "lr_cm=confusion_matrix(y_test,Y_pred_nb)\n",
    "plt.title(\"Naive Bayes\")\n",
    "sns.heatmap(lr_cm,annot=True,cmap=\"Blues\",fmt=\"d\",cbar=False)"
   ]
  },
  {
   "cell_type": "code",
   "execution_count": 33,
   "id": "87186b9e",
   "metadata": {},
   "outputs": [],
   "source": [
    "import pickle\n",
    "with open('nb.sav','wb') as f:\n",
    "    pickle.dump(nb,f)"
   ]
  },
  {
   "cell_type": "markdown",
   "id": "62efd33c",
   "metadata": {},
   "source": [
    "# Decision Tree"
   ]
  },
  {
   "cell_type": "code",
   "execution_count": 34,
   "id": "8dcc68fe",
   "metadata": {},
   "outputs": [
    {
     "name": "stdout",
     "output_type": "stream",
     "text": [
      "The accuracy score achieved using Decision Tree is: 100.0 %\n"
     ]
    }
   ],
   "source": [
    "dt=DecisionTreeClassifier()\n",
    "dt.fit(x_train,y_train)\n",
    "Y_pred_dt = dt.predict(x_test)\n",
    "score_dt = round(accuracy_score(Y_pred_dt,y_test)*100,2)\n",
    "\n",
    "print(\"The accuracy score achieved using Decision Tree is: \"+str(score_dt)+\" %\")"
   ]
  },
  {
   "cell_type": "code",
   "execution_count": 35,
   "id": "a0787a5d",
   "metadata": {},
   "outputs": [
    {
     "data": {
      "text/plain": [
       "<AxesSubplot:title={'center':'Decision Tree'}>"
      ]
     },
     "execution_count": 35,
     "metadata": {},
     "output_type": "execute_result"
    },
    {
     "data": {
      "image/png": "[encoded data removed]",
      "text/plain": [
       "<Figure size 432x288 with 1 Axes>"
      ]
     },
     "metadata": {
      "needs_background": "light"
     },
     "output_type": "display_data"
    }
   ],
   "source": [
    "lr_cm=confusion_matrix(y_test,Y_pred_dt)\n",
    "plt.title(\"Decision Tree\")\n",
    "sns.heatmap(lr_cm,annot=True,cmap=\"Blues\",fmt=\"d\",cbar=False)"
   ]
  },
  {
   "cell_type": "code",
   "execution_count": 36,
   "id": "4aa8dd19",
   "metadata": {},
   "outputs": [],
   "source": [
    "import pickle\n",
    "with open('dt.sav','wb') as f:\n",
    "    pickle.dump(dt,f)"
   ]
  },
  {
   "cell_type": "markdown",
   "id": "1a191c09",
   "metadata": {},
   "source": [
    "# Random Forest"
   ]
  },
  {
   "cell_type": "code",
   "execution_count": 37,
   "id": "0d120838",
   "metadata": {},
   "outputs": [
    {
     "name": "stdout",
     "output_type": "stream",
     "text": [
      "building tree 1 of 10building tree 2 of 10\n",
      "\n",
      "building tree 3 of 10\n",
      "building tree 4 of 10\n",
      "building tree 5 of 10\n",
      "building tree 6 of 10\n",
      "building tree 7 of 10\n",
      "building tree 8 of 10\n",
      "building tree 9 of 10\n",
      "building tree 10 of 10\n"
     ]
    },
    {
     "name": "stderr",
     "output_type": "stream",
     "text": [
      "[Parallel(n_jobs=2)]: Using backend ThreadingBackend with 2 concurrent workers.\n",
      "[Parallel(n_jobs=2)]: Done  10 out of  10 | elapsed:    0.0s finished\n",
      "[Parallel(n_jobs=2)]: Using backend ThreadingBackend with 2 concurrent workers.\n",
      "[Parallel(n_jobs=2)]: Done  10 out of  10 | elapsed:    0.0s finished\n",
      "[Parallel(n_jobs=2)]: Using backend ThreadingBackend with 2 concurrent workers.\n",
      "[Parallel(n_jobs=2)]: Done  10 out of  10 | elapsed:    0.0s finished\n"
     ]
    }
   ],
   "source": [
    "rfc=RandomForestClassifier(n_estimators=10,n_jobs=2,verbose=2)\n",
    "rfc.fit(x_train,y_train)\n",
    "score_rf=rfc.score(x_test,y_test)\n",
    "Y_pred_rf = rfc.predict(x_test)\n",
    "score_rf=round(accuracy_score(Y_pred_rf,y_test)*100,2)"
   ]
  },
  {
   "cell_type": "code",
   "execution_count": 38,
   "id": "1ef05b6c",
   "metadata": {},
   "outputs": [
    {
     "data": {
      "text/plain": [
       "100.0"
      ]
     },
     "execution_count": 38,
     "metadata": {},
     "output_type": "execute_result"
    }
   ],
   "source": [
    "score_rf"
   ]
  },
  {
   "cell_type": "code",
   "execution_count": 39,
   "id": "f7b5a909",
   "metadata": {},
   "outputs": [
    {
     "data": {
      "text/plain": [
       "<AxesSubplot:title={'center':'Random Forest'}>"
      ]
     },
     "execution_count": 39,
     "metadata": {},
     "output_type": "execute_result"
    },
    {
     "data": {
      "image/png": "[encoded data removed]",
      "text/plain": [
       "<Figure size 432x288 with 1 Axes>"
      ]
     },
     "metadata": {
      "needs_background": "light"
     },
     "output_type": "display_data"
    }
   ],
   "source": [
    "lr_cm=confusion_matrix(y_test,Y_pred_dt)\n",
    "plt.title(\"Random Forest\")\n",
    "sns.heatmap(lr_cm,annot=True,cmap=\"Blues\",fmt=\"d\",cbar=False)"
   ]
  },
  {
   "cell_type": "code",
   "execution_count": 40,
   "id": "184ab844",
   "metadata": {},
   "outputs": [],
   "source": [
    "import pickle\n",
    "with open('rf.sav','wb') as f:\n",
    "    pickle.dump(rfc,f)"
   ]
  },
  {
   "cell_type": "markdown",
   "id": "0ee22152",
   "metadata": {},
   "source": [
    " # Adaptive Boost Classifier"
   ]
  },
  {
   "cell_type": "code",
   "execution_count": 41,
   "id": "69f6ff76",
   "metadata": {},
   "outputs": [],
   "source": [
    "ada = AdaBoostClassifier(DecisionTreeClassifier(max_depth=1),n_estimators=200)\n",
    "ada.fit(x_train, y_train)\n",
    "ada.score(x_test,y_test)\n",
    "predictions = ada.predict(x_test)\n"
   ]
  },
  {
   "cell_type": "code",
   "execution_count": 42,
   "id": "00d4d900",
   "metadata": {},
   "outputs": [
    {
     "name": "stdout",
     "output_type": "stream",
     "text": [
      "The accuracy score achieved using Decision Tree is: 100.0 %\n"
     ]
    }
   ],
   "source": [
    "score_ada = round(accuracy_score(predictions,y_test)*100,2)\n",
    "\n",
    "print(\"The accuracy score achieved using Decision Tree is: \"+str(score_ada)+\" %\")"
   ]
  },
  {
   "cell_type": "code",
   "execution_count": 43,
   "id": "11469d65",
   "metadata": {},
   "outputs": [
    {
     "data": {
      "text/plain": [
       "<AxesSubplot:title={'center':'ADA Boost'}>"
      ]
     },
     "execution_count": 43,
     "metadata": {},
     "output_type": "execute_result"
    },
    {
     "data": {
      "image/png": "[encoded data removed]",
      "text/plain": [
       "<Figure size 432x288 with 1 Axes>"
      ]
     },
     "metadata": {
      "needs_background": "light"
     },
     "output_type": "display_data"
    }
   ],
   "source": [
    "lr_cm=confusion_matrix(y_test,predictions)\n",
    "plt.title(\"ADA Boost\")\n",
    "sns.heatmap(lr_cm,annot=True,cmap=\"Blues\",fmt=\"d\",cbar=False)"
   ]
  },
  {
   "cell_type": "code",
   "execution_count": 64,
   "id": "b77973ea",
   "metadata": {},
   "outputs": [],
   "source": [
    "import pickle\n",
    "with open('ada.sav','wb') as f:\n",
    "    pickle.dump(ada,f)"
   ]
  },
  {
   "cell_type": "code",
   "execution_count": 44,
   "id": "3858b8d5",
   "metadata": {},
   "outputs": [],
   "source": [
    "import tensorflow as tf\n",
    "from tensorflow import keras\n",
    "model=tf.keras.Sequential([\n",
    "    keras.layers.Dense(20,input_shape=(5,),activation='relu'),\n",
    "    keras.layers.Dense(10,activation='relu'),\n",
    "    keras.layers.Dense(1,activation='sigmoid'),\n",
    "])"
   ]
  },
  {
   "cell_type": "code",
   "execution_count": 45,
   "id": "abc66887",
   "metadata": {},
   "outputs": [],
   "source": [
    "model.compile(optimizer='adam',loss='binary_crossentropy',metrics=['accuracy'])"
   ]
  },
  {
   "cell_type": "code",
   "execution_count": 50,
   "id": "0941a5f5",
   "metadata": {},
   "outputs": [
    {
     "name": "stdout",
     "output_type": "stream",
     "text": [
      "Epoch 1/50\n",
      "157/157 [==============================] - 0s 2ms/step - loss: 0.4441 - accuracy: 0.8622\n",
      "Epoch 2/50\n",
      "157/157 [==============================] - 0s 2ms/step - loss: 0.3243 - accuracy: 0.8796\n",
      "Epoch 3/50\n",
      "157/157 [==============================] - 0s 2ms/step - loss: 0.3071 - accuracy: 0.8842\n",
      "Epoch 4/50\n",
      "157/157 [==============================] - 0s 2ms/step - loss: 0.2754 - accuracy: 0.8896\n",
      "Epoch 5/50\n",
      "157/157 [==============================] - 0s 3ms/step - loss: 0.8154 - accuracy: 0.8056\n",
      "Epoch 6/50\n",
      "157/157 [==============================] - 0s 2ms/step - loss: 0.2672 - accuracy: 0.8908\n",
      "Epoch 7/50\n",
      "157/157 [==============================] - 0s 2ms/step - loss: 0.2294 - accuracy: 0.9012\n",
      "Epoch 8/50\n",
      "157/157 [==============================] - 0s 2ms/step - loss: 0.2246 - accuracy: 0.9028\n",
      "Epoch 9/50\n",
      "157/157 [==============================] - 0s 2ms/step - loss: 0.2849 - accuracy: 0.8862\n",
      "Epoch 10/50\n",
      "157/157 [==============================] - 0s 2ms/step - loss: 0.2178 - accuracy: 0.9042\n",
      "Epoch 11/50\n",
      "157/157 [==============================] - 0s 2ms/step - loss: 0.2714 - accuracy: 0.8926\n",
      "Epoch 12/50\n",
      "157/157 [==============================] - 0s 3ms/step - loss: 0.6464 - accuracy: 0.8064\n",
      "Epoch 13/50\n",
      "157/157 [==============================] - 0s 2ms/step - loss: 0.2105 - accuracy: 0.9086\n",
      "Epoch 14/50\n",
      "157/157 [==============================] - 0s 2ms/step - loss: 0.3447 - accuracy: 0.8724\n",
      "Epoch 15/50\n",
      "157/157 [==============================] - 0s 3ms/step - loss: 0.5024 - accuracy: 0.8574\n",
      "Epoch 16/50\n",
      "157/157 [==============================] - 1s 3ms/step - loss: 0.3074 - accuracy: 0.8856\n",
      "Epoch 17/50\n",
      "157/157 [==============================] - 0s 2ms/step - loss: 0.1771 - accuracy: 0.9212\n",
      "Epoch 18/50\n",
      "157/157 [==============================] - 0s 2ms/step - loss: 0.3614 - accuracy: 0.8694\n",
      "Epoch 19/50\n",
      "157/157 [==============================] - 0s 2ms/step - loss: 0.2780 - accuracy: 0.8848: 0s - loss: 0.2231 - accura\n",
      "Epoch 20/50\n",
      "157/157 [==============================] - 0s 2ms/step - loss: 0.3782 - accuracy: 0.8704\n",
      "Epoch 21/50\n",
      "157/157 [==============================] - 0s 2ms/step - loss: 0.5440 - accuracy: 0.8532\n",
      "Epoch 22/50\n",
      "157/157 [==============================] - 0s 2ms/step - loss: 0.3232 - accuracy: 0.8804\n",
      "Epoch 23/50\n",
      "157/157 [==============================] - 0s 2ms/step - loss: 0.4414 - accuracy: 0.8576\n",
      "Epoch 24/50\n",
      "157/157 [==============================] - 0s 3ms/step - loss: 0.2134 - accuracy: 0.9076\n",
      "Epoch 25/50\n",
      "157/157 [==============================] - 0s 2ms/step - loss: 0.3624 - accuracy: 0.8792\n",
      "Epoch 26/50\n",
      "157/157 [==============================] - 0s 2ms/step - loss: 0.2677 - accuracy: 0.8962\n",
      "Epoch 27/50\n",
      "157/157 [==============================] - 0s 2ms/step - loss: 0.2068 - accuracy: 0.9174: 0s - loss: 0.1560 - accu\n",
      "Epoch 28/50\n",
      "157/157 [==============================] - 0s 3ms/step - loss: 0.3961 - accuracy: 0.8678\n",
      "Epoch 29/50\n",
      "157/157 [==============================] - 0s 3ms/step - loss: 0.1706 - accuracy: 0.9272\n",
      "Epoch 30/50\n",
      "157/157 [==============================] - 0s 3ms/step - loss: 0.2022 - accuracy: 0.9136\n",
      "Epoch 31/50\n",
      "157/157 [==============================] - 0s 3ms/step - loss: 0.2907 - accuracy: 0.8886\n",
      "Epoch 32/50\n",
      "157/157 [==============================] - 0s 3ms/step - loss: 0.2609 - accuracy: 0.9010\n",
      "Epoch 33/50\n",
      "157/157 [==============================] - ETA: 0s - loss: 0.4706 - accuracy: 0.85 - 0s 2ms/step - loss: 0.4483 - accuracy: 0.8566\n",
      "Epoch 34/50\n",
      "157/157 [==============================] - 0s 2ms/step - loss: 0.2181 - accuracy: 0.9122\n",
      "Epoch 35/50\n",
      "157/157 [==============================] - 0s 2ms/step - loss: 0.2656 - accuracy: 0.8912\n",
      "Epoch 36/50\n",
      "157/157 [==============================] - 0s 2ms/step - loss: 0.2363 - accuracy: 0.9034\n",
      "Epoch 37/50\n",
      "157/157 [==============================] - 0s 3ms/step - loss: 0.2217 - accuracy: 0.9074\n",
      "Epoch 38/50\n",
      "157/157 [==============================] - 0s 2ms/step - loss: 0.3349 - accuracy: 0.8782\n",
      "Epoch 39/50\n",
      "157/157 [==============================] - 0s 2ms/step - loss: 0.5209 - accuracy: 0.8506\n",
      "Epoch 40/50\n",
      "157/157 [==============================] - 0s 3ms/step - loss: 0.3700 - accuracy: 0.8722\n",
      "Epoch 41/50\n",
      "157/157 [==============================] - 0s 2ms/step - loss: 0.2200 - accuracy: 0.9098\n",
      "Epoch 42/50\n",
      "157/157 [==============================] - 0s 2ms/step - loss: 0.2767 - accuracy: 0.9014\n",
      "Epoch 43/50\n",
      "157/157 [==============================] - 0s 2ms/step - loss: 0.1836 - accuracy: 0.9214: 0s - loss: 0.1588 - accuracy: \n",
      "Epoch 44/50\n",
      "157/157 [==============================] - 0s 2ms/step - loss: 0.3616 - accuracy: 0.8776\n",
      "Epoch 45/50\n",
      "157/157 [==============================] - 0s 2ms/step - loss: 0.2032 - accuracy: 0.9174\n",
      "Epoch 46/50\n",
      "157/157 [==============================] - 0s 2ms/step - loss: 0.2736 - accuracy: 0.9050: 0s - loss: 0.5601 - accura\n",
      "Epoch 47/50\n",
      "157/157 [==============================] - 0s 2ms/step - loss: 0.2667 - accuracy: 0.8964\n",
      "Epoch 48/50\n",
      "157/157 [==============================] - 0s 2ms/step - loss: 0.4029 - accuracy: 0.8724: 0s - loss: 0.4278 - accura\n",
      "Epoch 49/50\n",
      "157/157 [==============================] - 0s 2ms/step - loss: 0.3273 - accuracy: 0.8814\n",
      "Epoch 50/50\n",
      "157/157 [==============================] - 0s 2ms/step - loss: 0.2633 - accuracy: 0.9016\n"
     ]
    },
    {
     "data": {
      "text/plain": [
       "<tensorflow.python.keras.callbacks.History at 0x2aca2f1bb50>"
      ]
     },
     "execution_count": 50,
     "metadata": {},
     "output_type": "execute_result"
    }
   ],
   "source": [
    "model.fit(x_train,y_train,epochs=50)"
   ]
  },
  {
   "cell_type": "code",
   "execution_count": 51,
   "id": "6767717a",
   "metadata": {},
   "outputs": [
    {
     "name": "stdout",
     "output_type": "stream",
     "text": [
      "157/157 [==============================] - 0s 2ms/step - loss: 0.3436 - accuracy: 0.8702\n"
     ]
    },
    {
     "data": {
      "text/plain": [
       "[0.3436492085456848, 0.870199978351593]"
      ]
     },
     "execution_count": 51,
     "metadata": {},
     "output_type": "execute_result"
    }
   ],
   "source": [
    "model.evaluate(x_test,y_test)"
   ]
  },
  {
   "cell_type": "code",
   "execution_count": 58,
   "id": "130b46bb",
   "metadata": {},
   "outputs": [
    {
     "name": "stdout",
     "output_type": "stream",
     "text": [
      "WARNING:tensorflow:From C:\\Users\\Aman avi\\.conda\\envs\\project\\lib\\site-packages\\tensorflow\\python\\training\\tracking\\tracking.py:111: Model.state_updates (from tensorflow.python.keras.engine.training) is deprecated and will be removed in a future version.\n",
      "Instructions for updating:\n",
      "This property should not be used in TensorFlow 2.0, as updates are applied automatically.\n",
      "WARNING:tensorflow:From C:\\Users\\Aman avi\\.conda\\envs\\project\\lib\\site-packages\\tensorflow\\python\\training\\tracking\\tracking.py:111: Layer.updates (from tensorflow.python.keras.engine.base_layer) is deprecated and will be removed in a future version.\n",
      "Instructions for updating:\n",
      "This property should not be used in TensorFlow 2.0, as updates are applied automatically.\n",
      "INFO:tensorflow:Assets written to: ann_new.hp5\\assets\n"
     ]
    }
   ],
   "source": [
    "model.save('ann_new.hp5')"
   ]
  },
  {
   "cell_type": "code",
   "execution_count": 52,
   "id": "4b3b6df3",
   "metadata": {},
   "outputs": [],
   "source": [
    "pred=model.predict(x_test)"
   ]
  },
  {
   "cell_type": "code",
   "execution_count": 53,
   "id": "beb68975",
   "metadata": {},
   "outputs": [
    {
     "data": {
      "text/plain": [
       "array([[9.9999964e-01],\n",
       "       [5.3813170e-07],\n",
       "       [7.9469681e-03],\n",
       "       ...,\n",
       "       [3.1552017e-03],\n",
       "       [9.9965352e-01],\n",
       "       [9.8921716e-01]], dtype=float32)"
      ]
     },
     "execution_count": 53,
     "metadata": {},
     "output_type": "execute_result"
    }
   ],
   "source": [
    "pred"
   ]
  },
  {
   "cell_type": "code",
   "execution_count": 54,
   "id": "f06c87ed",
   "metadata": {},
   "outputs": [],
   "source": [
    "pred_new=[]\n",
    "for m in pred:\n",
    "    if m>0.6:\n",
    "        pred_new.append(1)\n",
    "    else:\n",
    "        pred_new.append(0)"
   ]
  },
  {
   "cell_type": "code",
   "execution_count": 55,
   "id": "c660df08",
   "metadata": {},
   "outputs": [
    {
     "data": {
      "text/plain": [
       "<AxesSubplot:title={'center':'ANN'}>"
      ]
     },
     "execution_count": 55,
     "metadata": {},
     "output_type": "execute_result"
    },
    {
     "data": {
      "image/png": "[encoded data removed]",
      "text/plain": [
       "<Figure size 432x288 with 1 Axes>"
      ]
     },
     "metadata": {
      "needs_background": "light"
     },
     "output_type": "display_data"
    }
   ],
   "source": [
    "lr_cm=confusion_matrix(y_test,pred_new)\n",
    "plt.title(\"ANN\")\n",
    "sns.heatmap(lr_cm,annot=True,cmap=\"Blues\",fmt=\"d\",cbar=False)"
   ]
  },
  {
   "cell_type": "code",
   "execution_count": 56,
   "id": "e77fc140",
   "metadata": {},
   "outputs": [],
   "source": [
    "from sklearn.neural_network import MLPClassifier\n",
    "mlp=MLPClassifier(hidden_layer_sizes=(3,2),max_iter=500,activation='relu')"
   ]
  },
  {
   "cell_type": "code",
   "execution_count": 57,
   "id": "04b3a1b8",
   "metadata": {},
   "outputs": [
    {
     "data": {
      "text/plain": [
       "MLPClassifier(activation='relu', alpha=0.0001, batch_size='auto', beta_1=0.9,\n",
       "              beta_2=0.999, early_stopping=False, epsilon=1e-08,\n",
       "              hidden_layer_sizes=(3, 2), learning_rate='constant',\n",
       "              learning_rate_init=0.001, max_fun=15000, max_iter=500,\n",
       "              momentum=0.9, n_iter_no_change=10, nesterovs_momentum=True,\n",
       "              power_t=0.5, random_state=None, shuffle=True, solver='adam',\n",
       "              tol=0.0001, validation_fraction=0.1, verbose=False,\n",
       "              warm_start=False)"
      ]
     },
     "execution_count": 57,
     "metadata": {},
     "output_type": "execute_result"
    }
   ],
   "source": [
    "mlp.fit(x_train,y_train)"
   ]
  },
  {
   "cell_type": "code",
   "execution_count": 59,
   "id": "18f0bba1",
   "metadata": {},
   "outputs": [],
   "source": [
    "pred=mlp.predict(x_test)"
   ]
  },
  {
   "cell_type": "code",
   "execution_count": 60,
   "id": "efd9720d",
   "metadata": {},
   "outputs": [
    {
     "data": {
      "text/plain": [
       "<AxesSubplot:title={'center':'Feed Forwarding'}>"
      ]
     },
     "execution_count": 60,
     "metadata": {},
     "output_type": "execute_result"
    },
    {
     "data": {
      "image/png": "[encoded data removed]",
      "text/plain": [
       "<Figure size 432x288 with 1 Axes>"
      ]
     },
     "metadata": {
      "needs_background": "light"
     },
     "output_type": "display_data"
    }
   ],
   "source": [
    "lr_cm=confusion_matrix(y_test,pred)\n",
    "plt.title(\"Feed Forwarding\")\n",
    "sns.heatmap(lr_cm,annot=True,cmap=\"Blues\",fmt=\"d\",cbar=False)"
   ]
  },
  {
   "cell_type": "code",
   "execution_count": 61,
   "id": "e6d7eaf6",
   "metadata": {},
   "outputs": [],
   "source": [
    "score_mlp = round(accuracy_score(pred,y_test)*100,2)"
   ]
  },
  {
   "cell_type": "code",
   "execution_count": 63,
   "id": "ac893247",
   "metadata": {},
   "outputs": [],
   "source": [
    "import pickle\n",
    "with open('mlp_new.sav','wb') as f:\n",
    "    pickle.dump(mlp,f)"
   ]
  },
  {
   "cell_type": "code",
   "execution_count": 62,
   "id": "404edf7b",
   "metadata": {},
   "outputs": [
    {
     "data": {
      "image/png": "[encoded data removed]",
      "text/plain": [
       "<Figure size 1008x864 with 1 Axes>"
      ]
     },
     "metadata": {},
     "output_type": "display_data"
    },
    {
     "data": {
      "text/plain": [
       "<Figure size 432x288 with 0 Axes>"
      ]
     },
     "metadata": {},
     "output_type": "display_data"
    }
   ],
   "source": [
    "import matplotlib.pyplot as plt\n",
    "plt.figure(figsize=(14,12))\n",
    "values = [94.24,99.06,99.58,100,100,100,91,63]\n",
    "colors = ['yellowgreen', 'gold', 'lightskyblue', 'lightcoral','red','orange','violet','silver']\n",
    "labels = ['Logistic Regression','SVM Linear','Naive Bayes', 'Decision Tree', 'Random Forest','Ada Boost','ANN','MLP']\n",
    "explode = (0, 0, 0, 0, 0, 0.1, 0, 0)\n",
    "plt.pie(values, colors=colors, labels= values,explode=explode,counterclock=False, shadow=True)\n",
    "plt.title('pie chart')\n",
    "plt.legend(labels,loc=3)\n",
    "plt.show()\n",
    "plt.savefig('piechart1.png')"
   ]
  },
  {
   "cell_type": "code",
   "execution_count": null,
   "id": "cc9bf137",
   "metadata": {},
   "outputs": [],
   "source": []
  }
 ],
 "metadata": {
  "kernelspec": {
   "display_name": "Python 3",
   "language": "python",
   "name": "python3"
  },
  "language_info": {
   "codemirror_mode": {
    "name": "ipython",
    "version": 3
   },
   "file_extension": ".py",
   "mimetype": "text/x-python",
   "name": "python",
   "nbconvert_exporter": "python",
   "pygments_lexer": "ipython3",
   "version": "3.8.8"
  }
 },
 "nbformat": 4,
 "nbformat_minor": 5
}
